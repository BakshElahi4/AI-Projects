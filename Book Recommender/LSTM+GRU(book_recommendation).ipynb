{
  "metadata": {
    "kernelspec": {
      "language": "python",
      "display_name": "Python 3",
      "name": "python3"
    },
    "language_info": {
      "name": "python",
      "version": "3.11.11",
      "mimetype": "text/x-python",
      "codemirror_mode": {
        "name": "ipython",
        "version": 3
      },
      "pygments_lexer": "ipython3",
      "nbconvert_exporter": "python",
      "file_extension": ".py"
    },
    "kaggle": {
      "accelerator": "none",
      "dataSources": [
        {
          "sourceId": 3914,
          "sourceType": "datasetVersion",
          "datasetId": 1938
        }
      ],
      "dockerImageVersionId": 31041,
      "isInternetEnabled": true,
      "language": "python",
      "sourceType": "notebook",
      "isGpuEnabled": false
    },
    "colab": {
      "provenance": []
    }
  },
  "nbformat_minor": 0,
  "nbformat": 4,
  "cells": [
    {
      "cell_type": "code",
      "source": [
        "import pandas as pd\n",
        "import numpy as np\n",
        "from tensorflow.keras.preprocessing.text import Tokenizer\n",
        "from tensorflow.keras.preprocessing.sequence import pad_sequences\n",
        "from tensorflow.keras.models import Sequential\n",
        "from tensorflow.keras.layers import Embedding, LSTM, Dense\n",
        "from tensorflow.keras.callbacks import EarlyStopping\n",
        "from tensorflow.keras.metrics import TopKCategoricalAccuracy\n"
      ],
      "metadata": {
        "_uuid": "8f2839f25d086af736a60e9eeb907d3b93b6e0e5",
        "_cell_guid": "b1076dfc-b9ad-4769-8c92-a6c4dae69d19",
        "trusted": true,
        "execution": {
          "iopub.status.busy": "2025-06-24T10:49:37.231840Z",
          "iopub.execute_input": "2025-06-24T10:49:37.232469Z",
          "iopub.status.idle": "2025-06-24T10:49:50.993259Z",
          "shell.execute_reply.started": "2025-06-24T10:49:37.232442Z",
          "shell.execute_reply": "2025-06-24T10:49:50.992513Z"
        },
        "id": "t0gQBYqGrp2l",
        "outputId": "9be7b026-718f-443d-fbbc-9dc337c3a08b"
      },
      "outputs": [
        {
          "name": "stderr",
          "text": "2025-06-24 10:49:39.196635: E external/local_xla/xla/stream_executor/cuda/cuda_fft.cc:477] Unable to register cuFFT factory: Attempting to register factory for plugin cuFFT when one has already been registered\nWARNING: All log messages before absl::InitializeLog() is called are written to STDERR\nE0000 00:00:1750762179.430232      35 cuda_dnn.cc:8310] Unable to register cuDNN factory: Attempting to register factory for plugin cuDNN when one has already been registered\nE0000 00:00:1750762179.493943      35 cuda_blas.cc:1418] Unable to register cuBLAS factory: Attempting to register factory for plugin cuBLAS when one has already been registered\n",
          "output_type": "stream"
        }
      ],
      "execution_count": null
    },
    {
      "cell_type": "code",
      "source": [
        "import pandas as pd\n",
        "import numpy as np\n",
        "from collections import defaultdict\n",
        "from tensorflow.keras.preprocessing.text import Tokenizer\n",
        "from tensorflow.keras.preprocessing.sequence import pad_sequences\n",
        "from sklearn.model_selection import train_test_split\n",
        "\n",
        "# Step 1: Load data\n",
        "to_read = pd.read_csv(\"/kaggle/input/goodbooks-10k/to_read.csv\")\n",
        "\n",
        "# Step 2: Build user reading sequences\n",
        "user_sequences = defaultdict(list)\n",
        "for row in to_read.itertuples(index=False):\n",
        "    user_sequences[row.user_id].append(str(row.book_id))  # Use str for tokenizer compatibility\n",
        "\n",
        "# Step 3: Prepare input-output pairs\n",
        "sequences = []\n",
        "sequence_length = 5  # N previous books → predict next book\n",
        "\n",
        "for user, books in user_sequences.items():\n",
        "    if len(books) > sequence_length:\n",
        "        for i in range(sequence_length, len(books)):\n",
        "            seq = books[i-sequence_length:i+1]  # input + target\n",
        "            sequences.append(seq)\n",
        "\n",
        "print(f\"Total training sequences: {len(sequences)}\")\n"
      ],
      "metadata": {
        "trusted": true,
        "execution": {
          "iopub.status.busy": "2025-06-24T10:51:45.381379Z",
          "iopub.execute_input": "2025-06-24T10:51:45.382360Z",
          "iopub.status.idle": "2025-06-24T10:51:47.536662Z",
          "shell.execute_reply.started": "2025-06-24T10:51:45.382327Z",
          "shell.execute_reply": "2025-06-24T10:51:47.536021Z"
        },
        "id": "Ne_0bq8krp2r",
        "outputId": "20cb6c85-07ef-4a82-85c8-120f057e4b15"
      },
      "outputs": [
        {
          "name": "stdout",
          "text": "Total training sequences: 693648\n",
          "output_type": "stream"
        }
      ],
      "execution_count": null
    },
    {
      "cell_type": "code",
      "source": [
        "# Step 4: Tokenize book IDs\n",
        "tokenizer = Tokenizer()\n",
        "tokenizer.fit_on_texts([seq for seq in sequences])  # learn from all sequences\n",
        "\n",
        "# Convert book IDs to integers\n",
        "encoded_sequences = tokenizer.texts_to_sequences(sequences)\n",
        "\n",
        "# Ensure all sequences are of same length\n",
        "encoded_sequences = np.array(pad_sequences(encoded_sequences, maxlen=sequence_length + 1, padding='pre'))\n",
        "\n",
        "# Split into X and y\n",
        "X, y = encoded_sequences[:, :-1], encoded_sequences[:, -1]\n",
        "\n",
        "# Total number of unique books (vocabulary size)\n",
        "vocab_size = len(tokenizer.word_index) + 1\n",
        "print(f\"Vocabulary Size (unique books): {vocab_size}\")\n"
      ],
      "metadata": {
        "trusted": true,
        "execution": {
          "iopub.status.busy": "2025-06-24T10:52:12.133139Z",
          "iopub.execute_input": "2025-06-24T10:52:12.133407Z",
          "iopub.status.idle": "2025-06-24T10:52:17.128437Z",
          "shell.execute_reply.started": "2025-06-24T10:52:12.133386Z",
          "shell.execute_reply": "2025-06-24T10:52:17.127766Z"
        },
        "id": "wqy9t4Pqrp2u",
        "outputId": "444a333e-d1f1-42cf-e64e-8921f755b981"
      },
      "outputs": [
        {
          "name": "stdout",
          "text": "Vocabulary Size (unique books): 9987\n",
          "output_type": "stream"
        }
      ],
      "execution_count": null
    },
    {
      "cell_type": "code",
      "source": [
        "# Split into training and validation sets\n",
        "X_train, X_val, y_train, y_val = train_test_split(X, y, test_size=0.1, random_state=42)\n"
      ],
      "metadata": {
        "trusted": true,
        "execution": {
          "iopub.status.busy": "2025-06-24T10:52:34.301542Z",
          "iopub.execute_input": "2025-06-24T10:52:34.302119Z",
          "iopub.status.idle": "2025-06-24T10:52:34.372226Z",
          "shell.execute_reply.started": "2025-06-24T10:52:34.302095Z",
          "shell.execute_reply": "2025-06-24T10:52:34.371649Z"
        },
        "id": "jBq7PFYFrp2w"
      },
      "outputs": [],
      "execution_count": null
    },
    {
      "cell_type": "code",
      "source": [
        "import tensorflow as tf\n",
        "from tensorflow.keras.models import Sequential\n",
        "from tensorflow.keras.layers import Embedding, LSTM, Dropout, Dense\n",
        "from tensorflow.keras.callbacks import EarlyStopping\n",
        "from tensorflow.keras.metrics import SparseTopKCategoricalAccuracy\n",
        "\n",
        "# Define model\n",
        "model = Sequential([\n",
        "    Embedding(input_dim=vocab_size, output_dim=128, input_length=X_train.shape[1]),\n",
        "    LSTM(128, return_sequences=False),\n",
        "    Dropout(0.3),\n",
        "    Dense(128, activation='relu'),\n",
        "    Dense(vocab_size, activation='softmax')\n",
        "])\n",
        "\n",
        "# Compile model with top-5 accuracy\n",
        "model.compile(\n",
        "    loss='sparse_categorical_crossentropy',\n",
        "    optimizer='adam',\n",
        "    metrics=[\n",
        "        'accuracy',\n",
        "        SparseTopKCategoricalAccuracy(k=5, name='top_5_accuracy')\n",
        "    ]\n",
        ")\n",
        "\n",
        "# Early stopping to avoid overfitting\n",
        "early_stop = EarlyStopping(monitor='val_loss', patience=3, restore_best_weights=True)\n",
        "\n",
        "# Train the model\n",
        "history = model.fit(\n",
        "    X_train, y_train,\n",
        "    epochs=20,\n",
        "    batch_size=128,\n",
        "    validation_data=(X_val, y_val),\n",
        "    callbacks=[early_stop]\n",
        ")"
      ],
      "metadata": {
        "trusted": true,
        "execution": {
          "iopub.status.busy": "2025-06-24T10:55:52.706571Z",
          "iopub.execute_input": "2025-06-24T10:55:52.707644Z",
          "iopub.status.idle": "2025-06-24T11:02:07.115834Z",
          "shell.execute_reply.started": "2025-06-24T10:55:52.707592Z",
          "shell.execute_reply": "2025-06-24T11:02:07.115252Z"
        },
        "id": "uKnPN4rXrp2x",
        "outputId": "d6d06aab-5bab-4ff8-e5e4-202fde0c2a94"
      },
      "outputs": [
        {
          "name": "stdout",
          "text": "Epoch 1/20\n\u001b[1m4878/4878\u001b[0m \u001b[32m━━━━━━━━━━━━━━━━━━━━\u001b[0m\u001b[37m\u001b[0m \u001b[1m40s\u001b[0m 8ms/step - accuracy: 0.0063 - loss: 7.7184 - top_5_accuracy: 0.0258 - val_accuracy: 0.0229 - val_loss: 6.5712 - val_top_5_accuracy: 0.0814\nEpoch 2/20\n\u001b[1m4878/4878\u001b[0m \u001b[32m━━━━━━━━━━━━━━━━━━━━\u001b[0m\u001b[37m\u001b[0m \u001b[1m37s\u001b[0m 8ms/step - accuracy: 0.0247 - loss: 6.4308 - top_5_accuracy: 0.0869 - val_accuracy: 0.0335 - val_loss: 6.1949 - val_top_5_accuracy: 0.1139\nEpoch 3/20\n\u001b[1m4878/4878\u001b[0m \u001b[32m━━━━━━━━━━━━━━━━━━━━\u001b[0m\u001b[37m\u001b[0m \u001b[1m37s\u001b[0m 8ms/step - accuracy: 0.0356 - loss: 6.0432 - top_5_accuracy: 0.1180 - val_accuracy: 0.0436 - val_loss: 6.0331 - val_top_5_accuracy: 0.1346\nEpoch 4/20\n\u001b[1m4878/4878\u001b[0m \u001b[32m━━━━━━━━━━━━━━━━━━━━\u001b[0m\u001b[37m\u001b[0m \u001b[1m37s\u001b[0m 8ms/step - accuracy: 0.0449 - loss: 5.8321 - top_5_accuracy: 0.1386 - val_accuracy: 0.0506 - val_loss: 5.9486 - val_top_5_accuracy: 0.1477\nEpoch 5/20\n\u001b[1m4878/4878\u001b[0m \u001b[32m━━━━━━━━━━━━━━━━━━━━\u001b[0m\u001b[37m\u001b[0m \u001b[1m37s\u001b[0m 8ms/step - accuracy: 0.0516 - loss: 5.6877 - top_5_accuracy: 0.1530 - val_accuracy: 0.0535 - val_loss: 5.9070 - val_top_5_accuracy: 0.1545\nEpoch 6/20\n\u001b[1m4878/4878\u001b[0m \u001b[32m━━━━━━━━━━━━━━━━━━━━\u001b[0m\u001b[37m\u001b[0m \u001b[1m37s\u001b[0m 8ms/step - accuracy: 0.0574 - loss: 5.5756 - top_5_accuracy: 0.1656 - val_accuracy: 0.0572 - val_loss: 5.8852 - val_top_5_accuracy: 0.1619\nEpoch 7/20\n\u001b[1m4878/4878\u001b[0m \u001b[32m━━━━━━━━━━━━━━━━━━━━\u001b[0m\u001b[37m\u001b[0m \u001b[1m37s\u001b[0m 8ms/step - accuracy: 0.0630 - loss: 5.4853 - top_5_accuracy: 0.1764 - val_accuracy: 0.0603 - val_loss: 5.8818 - val_top_5_accuracy: 0.1642\nEpoch 8/20\n\u001b[1m4878/4878\u001b[0m \u001b[32m━━━━━━━━━━━━━━━━━━━━\u001b[0m\u001b[37m\u001b[0m \u001b[1m37s\u001b[0m 8ms/step - accuracy: 0.0671 - loss: 5.4132 - top_5_accuracy: 0.1848 - val_accuracy: 0.0620 - val_loss: 5.8871 - val_top_5_accuracy: 0.1685\nEpoch 9/20\n\u001b[1m4878/4878\u001b[0m \u001b[32m━━━━━━━━━━━━━━━━━━━━\u001b[0m\u001b[37m\u001b[0m \u001b[1m37s\u001b[0m 8ms/step - accuracy: 0.0709 - loss: 5.3423 - top_5_accuracy: 0.1937 - val_accuracy: 0.0631 - val_loss: 5.8972 - val_top_5_accuracy: 0.1713\nEpoch 10/20\n\u001b[1m4878/4878\u001b[0m \u001b[32m━━━━━━━━━━━━━━━━━━━━\u001b[0m\u001b[37m\u001b[0m \u001b[1m37s\u001b[0m 8ms/step - accuracy: 0.0753 - loss: 5.2832 - top_5_accuracy: 0.1999 - val_accuracy: 0.0649 - val_loss: 5.9186 - val_top_5_accuracy: 0.1736\n",
          "output_type": "stream"
        }
      ],
      "execution_count": null
    },
    {
      "cell_type": "code",
      "source": [
        "import numpy as np\n",
        "import pandas as pd\n",
        "import tensorflow as tf\n",
        "from sklearn.model_selection import train_test_split\n",
        "from tensorflow.keras.models import Model\n",
        "from tensorflow.keras.layers import Input, Embedding, LSTM, Dense, Dropout, Concatenate\n"
      ],
      "metadata": {
        "trusted": true,
        "execution": {
          "iopub.status.busy": "2025-06-24T11:07:11.664259Z",
          "iopub.execute_input": "2025-06-24T11:07:11.664803Z",
          "iopub.status.idle": "2025-06-24T11:07:11.668909Z",
          "shell.execute_reply.started": "2025-06-24T11:07:11.664777Z",
          "shell.execute_reply": "2025-06-24T11:07:11.668194Z"
        },
        "id": "IRLo8SaWrp2y"
      },
      "outputs": [],
      "execution_count": null
    },
    {
      "cell_type": "code",
      "source": [
        "# Load necessary CSVs\n",
        "ratings = pd.read_csv('/kaggle/input/goodbooks-10k/ratings.csv')\n",
        "books = pd.read_csv('/kaggle/input/goodbooks-10k/books.csv')\n",
        "book_tags = pd.read_csv('/kaggle/input/goodbooks-10k/book_tags.csv')\n"
      ],
      "metadata": {
        "trusted": true,
        "execution": {
          "iopub.status.busy": "2025-06-24T11:07:34.302812Z",
          "iopub.execute_input": "2025-06-24T11:07:34.303084Z",
          "iopub.status.idle": "2025-06-24T11:07:35.087308Z",
          "shell.execute_reply.started": "2025-06-24T11:07:34.303063Z",
          "shell.execute_reply": "2025-06-24T11:07:35.086790Z"
        },
        "id": "S8hS41trrp2y"
      },
      "outputs": [],
      "execution_count": null
    },
    {
      "cell_type": "code",
      "source": [
        "# Sort ratings by user and timestamp-like order (if exists)\n",
        "ratings = ratings.sort_values(by=['user_id', 'book_id'])  # (no timestamp column)\n",
        "\n",
        "# Group by user and extract sequences of at least 6 books\n",
        "user_sequences = ratings.groupby('user_id')['book_id'].apply(list)\n",
        "sequences = [seq for seq in user_sequences if len(seq) >= 6]\n"
      ],
      "metadata": {
        "trusted": true,
        "execution": {
          "iopub.status.busy": "2025-06-24T11:07:53.159474Z",
          "iopub.execute_input": "2025-06-24T11:07:53.160028Z",
          "iopub.status.idle": "2025-06-24T11:07:54.110249Z",
          "shell.execute_reply.started": "2025-06-24T11:07:53.160006Z",
          "shell.execute_reply": "2025-06-24T11:07:54.109663Z"
        },
        "id": "8r3twUBMrp2z"
      },
      "outputs": [],
      "execution_count": null
    },
    {
      "cell_type": "code",
      "source": [
        "X, y = [], []\n",
        "\n",
        "for seq in sequences:\n",
        "    for i in range(len(seq) - 5):\n",
        "        X.append(seq[i:i+5])\n",
        "        y.append(seq[i+5])\n",
        "\n",
        "X = np.array(X)\n",
        "y = np.array(y)\n",
        "\n",
        "print(\"Total sequences:\", len(X))\n"
      ],
      "metadata": {
        "trusted": true,
        "execution": {
          "iopub.status.busy": "2025-06-24T11:08:08.078962Z",
          "iopub.execute_input": "2025-06-24T11:08:08.079595Z",
          "iopub.status.idle": "2025-06-24T11:08:09.750347Z",
          "shell.execute_reply.started": "2025-06-24T11:08:08.079574Z",
          "shell.execute_reply": "2025-06-24T11:08:09.749737Z"
        },
        "id": "MNz_Nlisrp20",
        "outputId": "8bbaa999-61f8-49ef-94e2-2bee7476b0db"
      },
      "outputs": [
        {
          "name": "stdout",
          "text": "Total sequences: 754390\n",
          "output_type": "stream"
        }
      ],
      "execution_count": null
    },
    {
      "cell_type": "code",
      "source": [
        "# Extract useful metadata\n",
        "book_meta = books[['book_id', 'average_rating', 'original_publication_year']].copy()\n",
        "book_meta.fillna(0, inplace=True)\n",
        "\n",
        "# Create book_id → [rating, year] dictionary\n",
        "book_meta_dict = book_meta.set_index('book_id')[['average_rating', 'original_publication_year']].to_dict('index')\n",
        "\n",
        "#  Fixed: Safely extract values\n",
        "def build_meta_sequence(book_ids):\n",
        "    return [\n",
        "        list(book_meta_dict[bid].values()) if bid in book_meta_dict else [0, 0]\n",
        "        for bid in book_ids\n",
        "    ]\n",
        "\n",
        "# Build metadata sequences\n",
        "meta_X = np.array([build_meta_sequence(seq) for seq in X])\n"
      ],
      "metadata": {
        "trusted": true,
        "execution": {
          "iopub.status.busy": "2025-06-24T11:10:02.585928Z",
          "iopub.execute_input": "2025-06-24T11:10:02.586171Z",
          "iopub.status.idle": "2025-06-24T11:10:09.391034Z",
          "shell.execute_reply.started": "2025-06-24T11:10:02.586155Z",
          "shell.execute_reply": "2025-06-24T11:10:09.390358Z"
        },
        "id": "TNqEZ6gjrp20"
      },
      "outputs": [],
      "execution_count": null
    },
    {
      "cell_type": "code",
      "source": [
        "# Map book_ids to integers (tokenize)\n",
        "from sklearn.preprocessing import LabelEncoder\n",
        "\n",
        "book_encoder = LabelEncoder()\n",
        "all_book_ids = np.concatenate((X.flatten(), y))\n",
        "book_encoder.fit(all_book_ids)\n",
        "\n",
        "X_enc = book_encoder.transform(X.flatten()).reshape(X.shape)\n",
        "y_enc = book_encoder.transform(y)\n",
        "\n",
        "vocab_size = len(book_encoder.classes_)\n",
        "print(\"Vocabulary size (books):\", vocab_size)\n"
      ],
      "metadata": {
        "trusted": true,
        "execution": {
          "iopub.status.busy": "2025-06-24T11:10:26.961807Z",
          "iopub.execute_input": "2025-06-24T11:10:26.962067Z",
          "iopub.status.idle": "2025-06-24T11:10:27.375699Z",
          "shell.execute_reply.started": "2025-06-24T11:10:26.962048Z",
          "shell.execute_reply": "2025-06-24T11:10:27.374801Z"
        },
        "id": "9zfiZo7Qrp21",
        "outputId": "8e474514-7954-4692-f1f4-33b139978c84"
      },
      "outputs": [
        {
          "name": "stdout",
          "text": "Vocabulary size (books): 10000\n",
          "output_type": "stream"
        }
      ],
      "execution_count": null
    },
    {
      "cell_type": "code",
      "source": [
        "X_train, X_val, meta_train, meta_val, y_train, y_val = train_test_split(\n",
        "    X_enc, meta_X, y_enc, test_size=0.1, random_state=42\n",
        ")\n"
      ],
      "metadata": {
        "trusted": true,
        "execution": {
          "iopub.status.busy": "2025-06-24T11:10:43.352408Z",
          "iopub.execute_input": "2025-06-24T11:10:43.352970Z",
          "iopub.status.idle": "2025-06-24T11:10:43.503830Z",
          "shell.execute_reply.started": "2025-06-24T11:10:43.352949Z",
          "shell.execute_reply": "2025-06-24T11:10:43.503265Z"
        },
        "id": "k3T-UdDUrp22"
      },
      "outputs": [],
      "execution_count": null
    },
    {
      "cell_type": "code",
      "source": [
        "# Book sequence input\n",
        "seq_input = Input(shape=(5,), name='book_sequence_input')\n",
        "seq_embed = Embedding(input_dim=vocab_size, output_dim=128)(seq_input)\n",
        "seq_lstm = LSTM(128)(seq_embed)\n",
        "\n",
        "# Metadata input\n",
        "meta_input = Input(shape=(5, 2), name='metadata_input')\n",
        "meta_lstm = LSTM(32)(meta_input)\n",
        "\n",
        "# Combine both branches\n",
        "merged = Concatenate()([seq_lstm, meta_lstm])\n",
        "dense = Dense(128, activation='relu')(merged)\n",
        "drop = Dropout(0.3)(dense)\n",
        "output = Dense(vocab_size, activation='softmax')(drop)\n",
        "\n",
        "# Define model\n",
        "model = Model(inputs=[seq_input, meta_input], outputs=output)\n",
        "\n",
        "model.compile(\n",
        "    loss='sparse_categorical_crossentropy',\n",
        "    optimizer='adam',\n",
        "    metrics=['accuracy', tf.keras.metrics.SparseTopKCategoricalAccuracy(k=5)]\n",
        ")\n",
        "\n",
        "model.summary()\n"
      ],
      "metadata": {
        "trusted": true,
        "execution": {
          "iopub.status.busy": "2025-06-24T11:11:00.912081Z",
          "iopub.execute_input": "2025-06-24T11:11:00.912370Z",
          "iopub.status.idle": "2025-06-24T11:11:01.022188Z",
          "shell.execute_reply.started": "2025-06-24T11:11:00.912347Z",
          "shell.execute_reply": "2025-06-24T11:11:01.021410Z"
        },
        "id": "iyj6HjyWrp22",
        "outputId": "08f65ed6-ad51-41f9-b25d-fe3bbb467fec"
      },
      "outputs": [
        {
          "output_type": "display_data",
          "data": {
            "text/plain": "\u001b[1mModel: \"functional_2\"\u001b[0m\n",
            "text/html": "<pre style=\"white-space:pre;overflow-x:auto;line-height:normal;font-family:Menlo,'DejaVu Sans Mono',consolas,'Courier New',monospace\"><span style=\"font-weight: bold\">Model: \"functional_2\"</span>\n</pre>\n"
          },
          "metadata": {}
        },
        {
          "output_type": "display_data",
          "data": {
            "text/plain": "┏━━━━━━━━━━━━━━━━━━━━━━━━━━━┳━━━━━━━━━━━━━━━━━━━━━━━━┳━━━━━━━━━━━━━━━━┳━━━━━━━━━━━━━━━━━━━━━━━━┓\n┃\u001b[1m \u001b[0m\u001b[1mLayer (type)             \u001b[0m\u001b[1m \u001b[0m┃\u001b[1m \u001b[0m\u001b[1mOutput Shape          \u001b[0m\u001b[1m \u001b[0m┃\u001b[1m \u001b[0m\u001b[1m       Param #\u001b[0m\u001b[1m \u001b[0m┃\u001b[1m \u001b[0m\u001b[1mConnected to          \u001b[0m\u001b[1m \u001b[0m┃\n┡━━━━━━━━━━━━━━━━━━━━━━━━━━━╇━━━━━━━━━━━━━━━━━━━━━━━━╇━━━━━━━━━━━━━━━━╇━━━━━━━━━━━━━━━━━━━━━━━━┩\n│ book_sequence_input       │ (\u001b[38;5;45mNone\u001b[0m, \u001b[38;5;34m5\u001b[0m)              │              \u001b[38;5;34m0\u001b[0m │ -                      │\n│ (\u001b[38;5;33mInputLayer\u001b[0m)              │                        │                │                        │\n├───────────────────────────┼────────────────────────┼────────────────┼────────────────────────┤\n│ embedding_3 (\u001b[38;5;33mEmbedding\u001b[0m)   │ (\u001b[38;5;45mNone\u001b[0m, \u001b[38;5;34m5\u001b[0m, \u001b[38;5;34m128\u001b[0m)         │      \u001b[38;5;34m1,280,000\u001b[0m │ book_sequence_input[\u001b[38;5;34m0\u001b[0m… │\n├───────────────────────────┼────────────────────────┼────────────────┼────────────────────────┤\n│ metadata_input            │ (\u001b[38;5;45mNone\u001b[0m, \u001b[38;5;34m5\u001b[0m, \u001b[38;5;34m2\u001b[0m)           │              \u001b[38;5;34m0\u001b[0m │ -                      │\n│ (\u001b[38;5;33mInputLayer\u001b[0m)              │                        │                │                        │\n├───────────────────────────┼────────────────────────┼────────────────┼────────────────────────┤\n│ lstm_3 (\u001b[38;5;33mLSTM\u001b[0m)             │ (\u001b[38;5;45mNone\u001b[0m, \u001b[38;5;34m128\u001b[0m)            │        \u001b[38;5;34m131,584\u001b[0m │ embedding_3[\u001b[38;5;34m0\u001b[0m][\u001b[38;5;34m0\u001b[0m]      │\n├───────────────────────────┼────────────────────────┼────────────────┼────────────────────────┤\n│ lstm_4 (\u001b[38;5;33mLSTM\u001b[0m)             │ (\u001b[38;5;45mNone\u001b[0m, \u001b[38;5;34m32\u001b[0m)             │          \u001b[38;5;34m4,480\u001b[0m │ metadata_input[\u001b[38;5;34m0\u001b[0m][\u001b[38;5;34m0\u001b[0m]   │\n├───────────────────────────┼────────────────────────┼────────────────┼────────────────────────┤\n│ concatenate (\u001b[38;5;33mConcatenate\u001b[0m) │ (\u001b[38;5;45mNone\u001b[0m, \u001b[38;5;34m160\u001b[0m)            │              \u001b[38;5;34m0\u001b[0m │ lstm_3[\u001b[38;5;34m0\u001b[0m][\u001b[38;5;34m0\u001b[0m],          │\n│                           │                        │                │ lstm_4[\u001b[38;5;34m0\u001b[0m][\u001b[38;5;34m0\u001b[0m]           │\n├───────────────────────────┼────────────────────────┼────────────────┼────────────────────────┤\n│ dense_6 (\u001b[38;5;33mDense\u001b[0m)           │ (\u001b[38;5;45mNone\u001b[0m, \u001b[38;5;34m128\u001b[0m)            │         \u001b[38;5;34m20,608\u001b[0m │ concatenate[\u001b[38;5;34m0\u001b[0m][\u001b[38;5;34m0\u001b[0m]      │\n├───────────────────────────┼────────────────────────┼────────────────┼────────────────────────┤\n│ dropout_3 (\u001b[38;5;33mDropout\u001b[0m)       │ (\u001b[38;5;45mNone\u001b[0m, \u001b[38;5;34m128\u001b[0m)            │              \u001b[38;5;34m0\u001b[0m │ dense_6[\u001b[38;5;34m0\u001b[0m][\u001b[38;5;34m0\u001b[0m]          │\n├───────────────────────────┼────────────────────────┼────────────────┼────────────────────────┤\n│ dense_7 (\u001b[38;5;33mDense\u001b[0m)           │ (\u001b[38;5;45mNone\u001b[0m, \u001b[38;5;34m10000\u001b[0m)          │      \u001b[38;5;34m1,290,000\u001b[0m │ dropout_3[\u001b[38;5;34m0\u001b[0m][\u001b[38;5;34m0\u001b[0m]        │\n└───────────────────────────┴────────────────────────┴────────────────┴────────────────────────┘\n",
            "text/html": "<pre style=\"white-space:pre;overflow-x:auto;line-height:normal;font-family:Menlo,'DejaVu Sans Mono',consolas,'Courier New',monospace\">┏━━━━━━━━━━━━━━━━━━━━━━━━━━━┳━━━━━━━━━━━━━━━━━━━━━━━━┳━━━━━━━━━━━━━━━━┳━━━━━━━━━━━━━━━━━━━━━━━━┓\n┃<span style=\"font-weight: bold\"> Layer (type)              </span>┃<span style=\"font-weight: bold\"> Output Shape           </span>┃<span style=\"font-weight: bold\">        Param # </span>┃<span style=\"font-weight: bold\"> Connected to           </span>┃\n┡━━━━━━━━━━━━━━━━━━━━━━━━━━━╇━━━━━━━━━━━━━━━━━━━━━━━━╇━━━━━━━━━━━━━━━━╇━━━━━━━━━━━━━━━━━━━━━━━━┩\n│ book_sequence_input       │ (<span style=\"color: #00d7ff; text-decoration-color: #00d7ff\">None</span>, <span style=\"color: #00af00; text-decoration-color: #00af00\">5</span>)              │              <span style=\"color: #00af00; text-decoration-color: #00af00\">0</span> │ -                      │\n│ (<span style=\"color: #0087ff; text-decoration-color: #0087ff\">InputLayer</span>)              │                        │                │                        │\n├───────────────────────────┼────────────────────────┼────────────────┼────────────────────────┤\n│ embedding_3 (<span style=\"color: #0087ff; text-decoration-color: #0087ff\">Embedding</span>)   │ (<span style=\"color: #00d7ff; text-decoration-color: #00d7ff\">None</span>, <span style=\"color: #00af00; text-decoration-color: #00af00\">5</span>, <span style=\"color: #00af00; text-decoration-color: #00af00\">128</span>)         │      <span style=\"color: #00af00; text-decoration-color: #00af00\">1,280,000</span> │ book_sequence_input[<span style=\"color: #00af00; text-decoration-color: #00af00\">0</span>… │\n├───────────────────────────┼────────────────────────┼────────────────┼────────────────────────┤\n│ metadata_input            │ (<span style=\"color: #00d7ff; text-decoration-color: #00d7ff\">None</span>, <span style=\"color: #00af00; text-decoration-color: #00af00\">5</span>, <span style=\"color: #00af00; text-decoration-color: #00af00\">2</span>)           │              <span style=\"color: #00af00; text-decoration-color: #00af00\">0</span> │ -                      │\n│ (<span style=\"color: #0087ff; text-decoration-color: #0087ff\">InputLayer</span>)              │                        │                │                        │\n├───────────────────────────┼────────────────────────┼────────────────┼────────────────────────┤\n│ lstm_3 (<span style=\"color: #0087ff; text-decoration-color: #0087ff\">LSTM</span>)             │ (<span style=\"color: #00d7ff; text-decoration-color: #00d7ff\">None</span>, <span style=\"color: #00af00; text-decoration-color: #00af00\">128</span>)            │        <span style=\"color: #00af00; text-decoration-color: #00af00\">131,584</span> │ embedding_3[<span style=\"color: #00af00; text-decoration-color: #00af00\">0</span>][<span style=\"color: #00af00; text-decoration-color: #00af00\">0</span>]      │\n├───────────────────────────┼────────────────────────┼────────────────┼────────────────────────┤\n│ lstm_4 (<span style=\"color: #0087ff; text-decoration-color: #0087ff\">LSTM</span>)             │ (<span style=\"color: #00d7ff; text-decoration-color: #00d7ff\">None</span>, <span style=\"color: #00af00; text-decoration-color: #00af00\">32</span>)             │          <span style=\"color: #00af00; text-decoration-color: #00af00\">4,480</span> │ metadata_input[<span style=\"color: #00af00; text-decoration-color: #00af00\">0</span>][<span style=\"color: #00af00; text-decoration-color: #00af00\">0</span>]   │\n├───────────────────────────┼────────────────────────┼────────────────┼────────────────────────┤\n│ concatenate (<span style=\"color: #0087ff; text-decoration-color: #0087ff\">Concatenate</span>) │ (<span style=\"color: #00d7ff; text-decoration-color: #00d7ff\">None</span>, <span style=\"color: #00af00; text-decoration-color: #00af00\">160</span>)            │              <span style=\"color: #00af00; text-decoration-color: #00af00\">0</span> │ lstm_3[<span style=\"color: #00af00; text-decoration-color: #00af00\">0</span>][<span style=\"color: #00af00; text-decoration-color: #00af00\">0</span>],          │\n│                           │                        │                │ lstm_4[<span style=\"color: #00af00; text-decoration-color: #00af00\">0</span>][<span style=\"color: #00af00; text-decoration-color: #00af00\">0</span>]           │\n├───────────────────────────┼────────────────────────┼────────────────┼────────────────────────┤\n│ dense_6 (<span style=\"color: #0087ff; text-decoration-color: #0087ff\">Dense</span>)           │ (<span style=\"color: #00d7ff; text-decoration-color: #00d7ff\">None</span>, <span style=\"color: #00af00; text-decoration-color: #00af00\">128</span>)            │         <span style=\"color: #00af00; text-decoration-color: #00af00\">20,608</span> │ concatenate[<span style=\"color: #00af00; text-decoration-color: #00af00\">0</span>][<span style=\"color: #00af00; text-decoration-color: #00af00\">0</span>]      │\n├───────────────────────────┼────────────────────────┼────────────────┼────────────────────────┤\n│ dropout_3 (<span style=\"color: #0087ff; text-decoration-color: #0087ff\">Dropout</span>)       │ (<span style=\"color: #00d7ff; text-decoration-color: #00d7ff\">None</span>, <span style=\"color: #00af00; text-decoration-color: #00af00\">128</span>)            │              <span style=\"color: #00af00; text-decoration-color: #00af00\">0</span> │ dense_6[<span style=\"color: #00af00; text-decoration-color: #00af00\">0</span>][<span style=\"color: #00af00; text-decoration-color: #00af00\">0</span>]          │\n├───────────────────────────┼────────────────────────┼────────────────┼────────────────────────┤\n│ dense_7 (<span style=\"color: #0087ff; text-decoration-color: #0087ff\">Dense</span>)           │ (<span style=\"color: #00d7ff; text-decoration-color: #00d7ff\">None</span>, <span style=\"color: #00af00; text-decoration-color: #00af00\">10000</span>)          │      <span style=\"color: #00af00; text-decoration-color: #00af00\">1,290,000</span> │ dropout_3[<span style=\"color: #00af00; text-decoration-color: #00af00\">0</span>][<span style=\"color: #00af00; text-decoration-color: #00af00\">0</span>]        │\n└───────────────────────────┴────────────────────────┴────────────────┴────────────────────────┘\n</pre>\n"
          },
          "metadata": {}
        },
        {
          "output_type": "display_data",
          "data": {
            "text/plain": "\u001b[1m Total params: \u001b[0m\u001b[38;5;34m2,726,672\u001b[0m (10.40 MB)\n",
            "text/html": "<pre style=\"white-space:pre;overflow-x:auto;line-height:normal;font-family:Menlo,'DejaVu Sans Mono',consolas,'Courier New',monospace\"><span style=\"font-weight: bold\"> Total params: </span><span style=\"color: #00af00; text-decoration-color: #00af00\">2,726,672</span> (10.40 MB)\n</pre>\n"
          },
          "metadata": {}
        },
        {
          "output_type": "display_data",
          "data": {
            "text/plain": "\u001b[1m Trainable params: \u001b[0m\u001b[38;5;34m2,726,672\u001b[0m (10.40 MB)\n",
            "text/html": "<pre style=\"white-space:pre;overflow-x:auto;line-height:normal;font-family:Menlo,'DejaVu Sans Mono',consolas,'Courier New',monospace\"><span style=\"font-weight: bold\"> Trainable params: </span><span style=\"color: #00af00; text-decoration-color: #00af00\">2,726,672</span> (10.40 MB)\n</pre>\n"
          },
          "metadata": {}
        },
        {
          "output_type": "display_data",
          "data": {
            "text/plain": "\u001b[1m Non-trainable params: \u001b[0m\u001b[38;5;34m0\u001b[0m (0.00 B)\n",
            "text/html": "<pre style=\"white-space:pre;overflow-x:auto;line-height:normal;font-family:Menlo,'DejaVu Sans Mono',consolas,'Courier New',monospace\"><span style=\"font-weight: bold\"> Non-trainable params: </span><span style=\"color: #00af00; text-decoration-color: #00af00\">0</span> (0.00 B)\n</pre>\n"
          },
          "metadata": {}
        }
      ],
      "execution_count": null
    },
    {
      "cell_type": "code",
      "source": [
        "from tensorflow.keras.callbacks import EarlyStopping\n",
        "\n",
        "# Define EarlyStopping callback\n",
        "early_stop = EarlyStopping(\n",
        "    monitor='val_loss',       # Monitor validation loss\n",
        "    patience=3,               # Stop if no improvement for 3 epochs\n",
        "    restore_best_weights=True, # Restore the best weights seen during training\n",
        "    verbose=1\n",
        ")\n",
        "\n",
        "# Train the model with early stopping\n",
        "history = model.fit(\n",
        "    [X_train, meta_train],    # Multi-input: sequences + metadata\n",
        "    y_train,\n",
        "    validation_data=([X_val, meta_val], y_val),\n",
        "    epochs=20,\n",
        "    batch_size=128,\n",
        "    callbacks=[early_stop]    # Attach the callback here\n",
        ")\n"
      ],
      "metadata": {
        "trusted": true,
        "execution": {
          "iopub.status.busy": "2025-06-24T11:32:49.937935Z",
          "iopub.execute_input": "2025-06-24T11:32:49.938690Z",
          "iopub.status.idle": "2025-06-24T11:35:46.598115Z",
          "shell.execute_reply.started": "2025-06-24T11:32:49.938659Z",
          "shell.execute_reply": "2025-06-24T11:35:46.597480Z"
        },
        "id": "O9fc1BNArp22",
        "outputId": "44410b2f-5511-4f4c-f18f-7914153e1211"
      },
      "outputs": [
        {
          "name": "stdout",
          "text": "Epoch 1/20\n\u001b[1m5305/5305\u001b[0m \u001b[32m━━━━━━━━━━━━━━━━━━━━\u001b[0m\u001b[37m\u001b[0m \u001b[1m44s\u001b[0m 8ms/step - accuracy: 0.2682 - loss: 3.3785 - sparse_top_k_categorical_accuracy: 0.5257 - val_accuracy: 0.1325 - val_loss: 5.7145 - val_sparse_top_k_categorical_accuracy: 0.2823\nEpoch 2/20\n\u001b[1m5305/5305\u001b[0m \u001b[32m━━━━━━━━━━━━━━━━━━━━\u001b[0m\u001b[37m\u001b[0m \u001b[1m44s\u001b[0m 8ms/step - accuracy: 0.2725 - loss: 3.3443 - sparse_top_k_categorical_accuracy: 0.5312 - val_accuracy: 0.1312 - val_loss: 5.7409 - val_sparse_top_k_categorical_accuracy: 0.2818\nEpoch 3/20\n\u001b[1m5305/5305\u001b[0m \u001b[32m━━━━━━━━━━━━━━━━━━━━\u001b[0m\u001b[37m\u001b[0m \u001b[1m44s\u001b[0m 8ms/step - accuracy: 0.2769 - loss: 3.3113 - sparse_top_k_categorical_accuracy: 0.5370 - val_accuracy: 0.1310 - val_loss: 5.7967 - val_sparse_top_k_categorical_accuracy: 0.2801\nEpoch 4/20\n\u001b[1m5305/5305\u001b[0m \u001b[32m━━━━━━━━━━━━━━━━━━━━\u001b[0m\u001b[37m\u001b[0m \u001b[1m44s\u001b[0m 8ms/step - accuracy: 0.2817 - loss: 3.2747 - sparse_top_k_categorical_accuracy: 0.5444 - val_accuracy: 0.1300 - val_loss: 5.8803 - val_sparse_top_k_categorical_accuracy: 0.2794\nEpoch 4: early stopping\nRestoring model weights from the end of the best epoch: 1.\n",
          "output_type": "stream"
        }
      ],
      "execution_count": null
    },
    {
      "cell_type": "code",
      "source": [
        "# ===============================\n",
        "#  1. IMPORT REQUIRED LIBRARIES\n",
        "# ===============================\n",
        "import pandas as pd\n",
        "import numpy as np\n",
        "from sklearn.model_selection import train_test_split\n",
        "from sklearn.preprocessing import LabelEncoder\n",
        "from tensorflow.keras.preprocessing.sequence import pad_sequences\n",
        "from tensorflow.keras.models import Sequential\n",
        "from tensorflow.keras.layers import Embedding, LSTM, Dense, Dropout\n",
        "from tensorflow.keras.callbacks import EarlyStopping\n",
        "import tensorflow as tf"
      ],
      "metadata": {
        "trusted": true,
        "execution": {
          "iopub.status.busy": "2025-06-24T12:03:41.752784Z",
          "iopub.execute_input": "2025-06-24T12:03:41.753496Z",
          "iopub.status.idle": "2025-06-24T12:03:41.757754Z",
          "shell.execute_reply.started": "2025-06-24T12:03:41.753475Z",
          "shell.execute_reply": "2025-06-24T12:03:41.757127Z"
        },
        "id": "Imit4mxvrp23"
      },
      "outputs": [],
      "execution_count": null
    },
    {
      "cell_type": "code",
      "source": [
        "# =====================\n",
        "# 2. LOAD THE DATA\n",
        "# =====================\n",
        "to_read = pd.read_csv('/kaggle/input/goodbooks-10k/to_read.csv')\n",
        "books = pd.read_csv('/kaggle/input/goodbooks-10k/books.csv')"
      ],
      "metadata": {
        "trusted": true,
        "execution": {
          "iopub.status.busy": "2025-06-24T12:04:13.944479Z",
          "iopub.execute_input": "2025-06-24T12:04:13.944759Z",
          "iopub.status.idle": "2025-06-24T12:04:14.118932Z",
          "shell.execute_reply.started": "2025-06-24T12:04:13.944740Z",
          "shell.execute_reply": "2025-06-24T12:04:14.118045Z"
        },
        "id": "aVta8Iltrp23"
      },
      "outputs": [],
      "execution_count": null
    },
    {
      "cell_type": "code",
      "source": [
        "# =====================================\n",
        "# 3. GROUP BOOK SEQUENCES BY USER\n",
        "# =====================================\n",
        "user_sequences = to_read.groupby('user_id')['book_id'].apply(list)\n",
        "user_sequences = user_sequences[user_sequences.apply(len) > 5]  # filter users with short history"
      ],
      "metadata": {
        "trusted": true,
        "execution": {
          "iopub.status.busy": "2025-06-24T12:04:42.305486Z",
          "iopub.execute_input": "2025-06-24T12:04:42.306163Z",
          "iopub.status.idle": "2025-06-24T12:04:43.053473Z",
          "shell.execute_reply.started": "2025-06-24T12:04:42.306139Z",
          "shell.execute_reply": "2025-06-24T12:04:43.052936Z"
        },
        "id": "y_21jiRWrp23"
      },
      "outputs": [],
      "execution_count": null
    },
    {
      "cell_type": "code",
      "source": [
        "# ====================================\n",
        "# 4. LABEL ENCODE BOOK_IDs\n",
        "# ====================================\n",
        "book_encoder = LabelEncoder()\n",
        "book_encoder.fit(books['book_id'])\n",
        "\n",
        "# Map books to encoded integers\n",
        "encoded_sequences = []\n",
        "targets = []\n",
        "\n",
        "for sequence in user_sequences:\n",
        "    encoded = book_encoder.transform([book for book in sequence if book in book_encoder.classes_])\n",
        "    for i in range(1, len(encoded)):\n",
        "        encoded_sequences.append(encoded[:i])\n",
        "        targets.append(encoded[i])"
      ],
      "metadata": {
        "trusted": true,
        "execution": {
          "iopub.status.busy": "2025-06-24T12:05:31.418005Z",
          "iopub.execute_input": "2025-06-24T12:05:31.418289Z",
          "iopub.status.idle": "2025-06-24T12:05:43.165259Z",
          "shell.execute_reply.started": "2025-06-24T12:05:31.418270Z",
          "shell.execute_reply": "2025-06-24T12:05:43.164711Z"
        },
        "id": "mB2kHz4brp23"
      },
      "outputs": [],
      "execution_count": null
    },
    {
      "cell_type": "code",
      "source": [
        "# ==========================================\n",
        "# 5. PAD SEQUENCES AND PREPARE DATASETS\n",
        "# ==========================================\n",
        "max_seq_len = max(len(seq) for seq in encoded_sequences)\n",
        "X = pad_sequences(encoded_sequences, maxlen=max_seq_len, padding='pre')\n",
        "y = np.array(targets)"
      ],
      "metadata": {
        "trusted": true,
        "execution": {
          "iopub.status.busy": "2025-06-24T12:06:04.249535Z",
          "iopub.execute_input": "2025-06-24T12:06:04.250207Z",
          "iopub.status.idle": "2025-06-24T12:06:04.360956Z",
          "shell.execute_reply.started": "2025-06-24T12:06:04.250184Z",
          "shell.execute_reply": "2025-06-24T12:06:04.360444Z"
        },
        "id": "jbXLTMZ4rp24"
      },
      "outputs": [],
      "execution_count": null
    },
    {
      "cell_type": "code",
      "source": [
        "# ================================\n",
        "# 6. TRAIN-VALIDATION SPLIT\n",
        "# ================================\n",
        "X_train, X_val, y_train, y_val = train_test_split(X, y, test_size=0.1, random_state=42)"
      ],
      "metadata": {
        "trusted": true,
        "execution": {
          "iopub.status.busy": "2025-06-24T12:06:30.379541Z",
          "iopub.execute_input": "2025-06-24T12:06:30.380115Z",
          "iopub.status.idle": "2025-06-24T12:06:30.390380Z",
          "shell.execute_reply.started": "2025-06-24T12:06:30.380092Z",
          "shell.execute_reply": "2025-06-24T12:06:30.389593Z"
        },
        "id": "FAd7bcM_rp24"
      },
      "outputs": [],
      "execution_count": null
    },
    {
      "cell_type": "code",
      "source": [
        "# ========================================\n",
        "# 7. DEFINE 2-LAYER LSTM MODEL\n",
        "# ========================================\n",
        "vocab_size = len(book_encoder.classes_) + 1  # +1 for padding token\n",
        "embedding_dim = 64\n",
        "lstm_units_1 = 128\n",
        "lstm_units_2 = 64\n",
        "dropout_rate = 0.3\n",
        "\n",
        "model = Sequential([\n",
        "    Embedding(input_dim=vocab_size, output_dim=embedding_dim, input_length=max_seq_len),\n",
        "    LSTM(lstm_units_1, return_sequences=True),\n",
        "    Dropout(dropout_rate),\n",
        "    LSTM(lstm_units_2),\n",
        "    Dropout(dropout_rate),\n",
        "    Dense(128, activation='relu'),\n",
        "    Dropout(0.2),\n",
        "    Dense(vocab_size, activation='softmax')\n",
        "])\n",
        "\n",
        "model.compile(loss='sparse_categorical_crossentropy', optimizer='adam', metrics=['accuracy'])\n"
      ],
      "metadata": {
        "trusted": true,
        "execution": {
          "iopub.status.busy": "2025-06-24T12:06:57.593052Z",
          "iopub.execute_input": "2025-06-24T12:06:57.593797Z",
          "iopub.status.idle": "2025-06-24T12:06:57.631853Z",
          "shell.execute_reply.started": "2025-06-24T12:06:57.593769Z",
          "shell.execute_reply": "2025-06-24T12:06:57.631176Z"
        },
        "id": "eZLBdBKFrp24",
        "outputId": "17c8ff59-aee3-457e-a799-456097aea4cd"
      },
      "outputs": [
        {
          "name": "stderr",
          "text": "/usr/local/lib/python3.11/dist-packages/keras/src/layers/core/embedding.py:90: UserWarning: Argument `input_length` is deprecated. Just remove it.\n  warnings.warn(\n",
          "output_type": "stream"
        }
      ],
      "execution_count": null
    },
    {
      "cell_type": "code",
      "source": [
        "# ========================================\n",
        "# 8. EARLY STOPPING CALLBACK\n",
        "# ========================================\n",
        "early_stopping = EarlyStopping(\n",
        "    monitor='val_loss',\n",
        "    patience=3,\n",
        "    restore_best_weights=True,\n",
        "    verbose=1\n",
        ")"
      ],
      "metadata": {
        "trusted": true,
        "execution": {
          "iopub.status.busy": "2025-06-24T12:07:16.146625Z",
          "iopub.execute_input": "2025-06-24T12:07:16.147166Z",
          "iopub.status.idle": "2025-06-24T12:07:16.150523Z",
          "shell.execute_reply.started": "2025-06-24T12:07:16.147146Z",
          "shell.execute_reply": "2025-06-24T12:07:16.149742Z"
        },
        "id": "sxFkjb9Qrp25"
      },
      "outputs": [],
      "execution_count": null
    },
    {
      "cell_type": "code",
      "source": [
        "# ===============================\n",
        "# 9. TRAIN THE MODEL\n",
        "# ===============================\n",
        "history = model.fit(\n",
        "    X_train, y_train,\n",
        "    validation_data=(X_val, y_val),\n",
        "    epochs=20,\n",
        "    batch_size=256,\n",
        "    callbacks=[early_stopping],\n",
        "    verbose=2\n",
        ")"
      ],
      "metadata": {
        "trusted": true,
        "execution": {
          "iopub.status.busy": "2025-06-24T12:07:32.122510Z",
          "iopub.execute_input": "2025-06-24T12:07:32.123149Z",
          "iopub.status.idle": "2025-06-24T12:08:16.471718Z",
          "shell.execute_reply.started": "2025-06-24T12:07:32.123129Z",
          "shell.execute_reply": "2025-06-24T12:08:16.471089Z"
        },
        "id": "L7Pab1Awrp25",
        "outputId": "0b575958-6ed5-46d5-d48e-8066558ca4c8"
      },
      "outputs": [
        {
          "name": "stdout",
          "text": "Epoch 1/20\n191/191 - 6s - 32ms/step - accuracy: 0.0123 - loss: 6.4432 - val_accuracy: 0.0070 - val_loss: 6.0624\nEpoch 2/20\n191/191 - 2s - 10ms/step - accuracy: 0.0144 - loss: 5.9302 - val_accuracy: 0.0223 - val_loss: 5.7446\nEpoch 3/20\n191/191 - 2s - 10ms/step - accuracy: 0.0240 - loss: 5.6959 - val_accuracy: 0.0287 - val_loss: 5.5966\nEpoch 4/20\n191/191 - 2s - 10ms/step - accuracy: 0.0290 - loss: 5.5789 - val_accuracy: 0.0328 - val_loss: 5.5075\nEpoch 5/20\n191/191 - 2s - 10ms/step - accuracy: 0.0327 - loss: 5.5021 - val_accuracy: 0.0392 - val_loss: 5.4580\nEpoch 6/20\n191/191 - 2s - 11ms/step - accuracy: 0.0345 - loss: 5.4574 - val_accuracy: 0.0429 - val_loss: 5.4133\nEpoch 7/20\n191/191 - 2s - 10ms/step - accuracy: 0.0369 - loss: 5.4149 - val_accuracy: 0.0424 - val_loss: 5.3757\nEpoch 8/20\n191/191 - 2s - 11ms/step - accuracy: 0.0407 - loss: 5.3828 - val_accuracy: 0.0459 - val_loss: 5.3506\nEpoch 9/20\n191/191 - 2s - 11ms/step - accuracy: 0.0420 - loss: 5.3604 - val_accuracy: 0.0446 - val_loss: 5.3330\nEpoch 10/20\n191/191 - 2s - 11ms/step - accuracy: 0.0430 - loss: 5.3382 - val_accuracy: 0.0429 - val_loss: 5.3191\nEpoch 11/20\n191/191 - 2s - 11ms/step - accuracy: 0.0427 - loss: 5.3186 - val_accuracy: 0.0462 - val_loss: 5.3088\nEpoch 12/20\n191/191 - 2s - 11ms/step - accuracy: 0.0446 - loss: 5.3033 - val_accuracy: 0.0479 - val_loss: 5.2947\nEpoch 13/20\n191/191 - 2s - 11ms/step - accuracy: 0.0457 - loss: 5.2888 - val_accuracy: 0.0499 - val_loss: 5.2790\nEpoch 14/20\n191/191 - 2s - 11ms/step - accuracy: 0.0453 - loss: 5.2778 - val_accuracy: 0.0473 - val_loss: 5.2789\nEpoch 15/20\n191/191 - 2s - 10ms/step - accuracy: 0.0467 - loss: 5.2685 - val_accuracy: 0.0503 - val_loss: 5.2731\nEpoch 16/20\n191/191 - 2s - 10ms/step - accuracy: 0.0473 - loss: 5.2550 - val_accuracy: 0.0538 - val_loss: 5.2591\nEpoch 17/20\n191/191 - 2s - 10ms/step - accuracy: 0.0484 - loss: 5.2417 - val_accuracy: 0.0499 - val_loss: 5.2543\nEpoch 18/20\n191/191 - 2s - 10ms/step - accuracy: 0.0491 - loss: 5.2344 - val_accuracy: 0.0492 - val_loss: 5.2452\nEpoch 19/20\n191/191 - 2s - 10ms/step - accuracy: 0.0501 - loss: 5.2220 - val_accuracy: 0.0517 - val_loss: 5.2400\nEpoch 20/20\n191/191 - 2s - 10ms/step - accuracy: 0.0498 - loss: 5.2137 - val_accuracy: 0.0490 - val_loss: 5.2373\nRestoring model weights from the end of the best epoch: 20.\n",
          "output_type": "stream"
        }
      ],
      "execution_count": null
    },
    {
      "cell_type": "code",
      "source": [
        "val_loss, val_acc = model.evaluate(X_val, y_val, verbose=0)\n",
        "print(f\"Validation Accuracy: {val_acc:.4f}\")\n"
      ],
      "metadata": {
        "trusted": true,
        "execution": {
          "iopub.status.busy": "2025-06-24T12:08:33.929573Z",
          "iopub.execute_input": "2025-06-24T12:08:33.930140Z",
          "iopub.status.idle": "2025-06-24T12:08:34.754164Z",
          "shell.execute_reply.started": "2025-06-24T12:08:33.930119Z",
          "shell.execute_reply": "2025-06-24T12:08:34.753480Z"
        },
        "id": "raynor5prp25",
        "outputId": "f9b24694-7705-4c3d-9156-68c6aab1454a"
      },
      "outputs": [
        {
          "name": "stdout",
          "text": "Validation Accuracy: 0.0490\n",
          "output_type": "stream"
        }
      ],
      "execution_count": null
    },
    {
      "cell_type": "code",
      "source": [
        "def recommend_books_for_user(user_id, top_k=5):\n",
        "    if user_id not in user_sequences:\n",
        "        return \"No data for this user.\"\n",
        "\n",
        "    last_sequence = user_sequences[user_id]\n",
        "    encoded_seq = book_encoder.transform([b for b in last_sequence if b in book_encoder.classes_])\n",
        "    padded_seq = pad_sequences([encoded_seq], maxlen=max_seq_len, padding='pre')\n",
        "\n",
        "    prediction = model.predict(padded_seq, verbose=0)[0]\n",
        "    top_indices = prediction.argsort()[-top_k:][::-1]\n",
        "    predicted_book_ids = book_encoder.inverse_transform(top_indices)\n",
        "\n",
        "    return books[books['book_id'].isin(predicted_book_ids)][['book_id', 'title', 'authors']]\n",
        "\n",
        "# Example:\n",
        "recommend_books_for_user(1)\n"
      ],
      "metadata": {
        "trusted": true,
        "execution": {
          "iopub.status.busy": "2025-06-24T12:09:10.925882Z",
          "iopub.execute_input": "2025-06-24T12:09:10.926562Z",
          "iopub.status.idle": "2025-06-24T12:09:11.283774Z",
          "shell.execute_reply.started": "2025-06-24T12:09:10.926539Z",
          "shell.execute_reply": "2025-06-24T12:09:11.283172Z"
        },
        "id": "Qfz_F9lUrp25",
        "outputId": "c667dbf8-6359-46d2-89f7-920b4572fa04"
      },
      "outputs": [
        {
          "execution_count": 34,
          "output_type": "execute_result",
          "data": {
            "text/plain": "      book_id                                  title  \\\n292       295                        Treasure Island   \n1998      249                       Tropic of Cancer   \n5071      359  The Salmon of Doubt (Dirk Gently, #3)   \n7241      291                       The Broken Wings   \n7903      355               Job: A Comedy of Justice   \n\n                               authors  \n292             Robert Louis Stevenson  \n1998                      Henry Miller  \n5071                     Douglas Adams  \n7241  Kahlil Gibran, Anthony R. Ferris  \n7903                Robert A. Heinlein  ",
            "text/html": "<div>\n<style scoped>\n    .dataframe tbody tr th:only-of-type {\n        vertical-align: middle;\n    }\n\n    .dataframe tbody tr th {\n        vertical-align: top;\n    }\n\n    .dataframe thead th {\n        text-align: right;\n    }\n</style>\n<table border=\"1\" class=\"dataframe\">\n  <thead>\n    <tr style=\"text-align: right;\">\n      <th></th>\n      <th>book_id</th>\n      <th>title</th>\n      <th>authors</th>\n    </tr>\n  </thead>\n  <tbody>\n    <tr>\n      <th>292</th>\n      <td>295</td>\n      <td>Treasure Island</td>\n      <td>Robert Louis Stevenson</td>\n    </tr>\n    <tr>\n      <th>1998</th>\n      <td>249</td>\n      <td>Tropic of Cancer</td>\n      <td>Henry Miller</td>\n    </tr>\n    <tr>\n      <th>5071</th>\n      <td>359</td>\n      <td>The Salmon of Doubt (Dirk Gently, #3)</td>\n      <td>Douglas Adams</td>\n    </tr>\n    <tr>\n      <th>7241</th>\n      <td>291</td>\n      <td>The Broken Wings</td>\n      <td>Kahlil Gibran, Anthony R. Ferris</td>\n    </tr>\n    <tr>\n      <th>7903</th>\n      <td>355</td>\n      <td>Job: A Comedy of Justice</td>\n      <td>Robert A. Heinlein</td>\n    </tr>\n  </tbody>\n</table>\n</div>"
          },
          "metadata": {}
        }
      ],
      "execution_count": null
    },
    {
      "cell_type": "code",
      "source": [
        "# ===================== 📦 LOAD LIBRARIES =====================\n",
        "import pandas as pd\n",
        "import numpy as np\n",
        "from sklearn.preprocessing import LabelEncoder\n",
        "from sklearn.model_selection import train_test_split\n",
        "import tensorflow as tf\n",
        "from tensorflow.keras.models import Model\n",
        "from tensorflow.keras.layers import Input, Embedding, LSTM, Dense, Concatenate, Dropout\n",
        "from tensorflow.keras.callbacks import EarlyStopping\n",
        "from tensorflow.keras.metrics import TopKCategoricalAccuracy\n",
        "\n",
        "# ===================== 📁 LOAD DATA =====================\n",
        "ratings = pd.read_csv('/kaggle/input/goodbooks-10k/ratings.csv')\n",
        "to_read = pd.read_csv('/kaggle/input/goodbooks-10k/to_read.csv')\n",
        "books = pd.read_csv('/kaggle/input/goodbooks-10k/books.csv')\n",
        "\n",
        "# ===================== 📊 FILTER POPULAR BOOKS =====================\n",
        "popular_books = to_read['book_id'].value_counts()\n",
        "popular_books = popular_books[popular_books >= 20].index.tolist()\n",
        "ratings = ratings[ratings['book_id'].isin(popular_books)]\n",
        "\n",
        "# ===================== 🔢 ENCODE USER & BOOK IDs =====================\n",
        "ratings = ratings.sort_values(['user_id', 'book_id'])\n",
        "\n",
        "user_enc = LabelEncoder()\n",
        "book_enc = LabelEncoder()\n",
        "\n",
        "ratings['user'] = user_enc.fit_transform(ratings['user_id'])\n",
        "ratings['book'] = book_enc.fit_transform(ratings['book_id'])\n",
        "\n",
        "n_users = ratings['user'].nunique()\n",
        "n_books = ratings['book'].nunique()"
      ],
      "metadata": {
        "trusted": true,
        "execution": {
          "iopub.status.busy": "2025-06-25T04:54:04.232218Z",
          "iopub.execute_input": "2025-06-25T04:54:04.232961Z",
          "iopub.status.idle": "2025-06-25T04:54:04.783645Z",
          "shell.execute_reply.started": "2025-06-25T04:54:04.232935Z",
          "shell.execute_reply": "2025-06-25T04:54:04.783075Z"
        },
        "id": "1X6J-T9brp26"
      },
      "outputs": [],
      "execution_count": null
    },
    {
      "cell_type": "code",
      "source": [
        "# ===================== 📚 CREATE SEQUENCES =====================\n",
        "def create_sequences(df, sequence_length=5):\n",
        "    X, y = [], []\n",
        "    for user in df['user'].unique():\n",
        "        user_books = df[df['user'] == user]['book'].tolist()\n",
        "        if len(user_books) > sequence_length:\n",
        "            for i in range(len(user_books) - sequence_length):\n",
        "                X.append(user_books[i:i+sequence_length])\n",
        "                y.append(user_books[i+sequence_length])\n",
        "    return np.array(X), np.array(y)\n",
        "\n",
        "X, y = create_sequences(ratings)\n",
        "\n",
        "# ===================== 🧠 ADD METADATA =====================\n",
        "book_meta = books[['book_id', 'average_rating', 'ratings_count', 'language_code']]\n",
        "book_meta = book_meta[book_meta['book_id'].isin(book_enc.inverse_transform(range(n_books)))]\n",
        "book_meta['book'] = book_enc.transform(book_meta['book_id'])\n",
        "\n",
        "book_features = book_meta.set_index('book')[['average_rating', 'ratings_count']].fillna(0)\n",
        "book_features['ratings_count'] = np.log1p(book_features['ratings_count'])\n",
        "\n",
        "book_feature_matrix = np.zeros((n_books, 2))\n",
        "for book_id in book_features.index:\n",
        "    book_feature_matrix[book_id] = book_features.loc[book_id].values\n",
        "\n",
        "X_metadata = np.array([[book_feature_matrix[bid] for bid in seq] for seq in X])"
      ],
      "metadata": {
        "trusted": true,
        "execution": {
          "iopub.status.busy": "2025-06-25T04:54:29.951111Z",
          "iopub.execute_input": "2025-06-25T04:54:29.951383Z",
          "iopub.status.idle": "2025-06-25T04:55:11.625697Z",
          "shell.execute_reply.started": "2025-06-25T04:54:29.951361Z",
          "shell.execute_reply": "2025-06-25T04:55:11.625124Z"
        },
        "id": "oOKorP--rp26"
      },
      "outputs": [],
      "execution_count": null
    },
    {
      "cell_type": "code",
      "source": [
        "# ===================== 🧪 TRAIN / VAL SPLIT =====================\n",
        "X_train, X_val, Xmeta_train, Xmeta_val, y_train, y_val = train_test_split(\n",
        "    X, X_metadata, y, test_size=0.1, random_state=42\n",
        ")\n",
        "\n",
        "# ===================== 🤖 MODEL BUILDING =====================\n",
        "embedding_dim = 64\n",
        "meta_dim = 2\n",
        "seq_len = X.shape[1]  # should be 5\n",
        "# n_books already defined\n",
        "\n",
        "# Inputs\n",
        "book_input = Input(shape=(seq_len,), name='book_input')\n",
        "meta_input = Input(shape=(seq_len, meta_dim), name='meta_input')\n",
        "\n",
        "# Embedding + metadata concat\n",
        "book_embedding = Embedding(input_dim=n_books, output_dim=embedding_dim)(book_input)\n",
        "merged = Concatenate()([book_embedding, meta_input])\n",
        "\n",
        "# LSTM layers\n",
        "x = LSTM(128, return_sequences=True)(merged)\n",
        "x = LSTM(64)(x)\n",
        "x = Dropout(0.3)(x)\n",
        "\n",
        "# Output\n",
        "output = Dense(n_books, activation='softmax')(x)\n",
        "\n",
        "from tensorflow.keras.metrics import SparseTopKCategoricalAccuracy  # ✅ Add this\n",
        "\n",
        "model.compile(\n",
        "    loss='sparse_categorical_crossentropy',\n",
        "    optimizer='adam',\n",
        "    metrics=[SparseTopKCategoricalAccuracy(k=5, name='top_5_accuracy')]  # ✅ Fix\n",
        ")\n",
        "\n",
        "\n",
        "model.summary()"
      ],
      "metadata": {
        "trusted": true,
        "execution": {
          "iopub.status.busy": "2025-06-25T04:58:56.723274Z",
          "iopub.execute_input": "2025-06-25T04:58:56.723867Z",
          "iopub.status.idle": "2025-06-25T04:58:56.918342Z",
          "shell.execute_reply.started": "2025-06-25T04:58:56.723843Z",
          "shell.execute_reply": "2025-06-25T04:58:56.917713Z"
        },
        "id": "gY-BJfldrp26",
        "outputId": "7ee23b05-e761-4e20-b9e1-c9b111d9918f"
      },
      "outputs": [
        {
          "output_type": "display_data",
          "data": {
            "text/plain": "\u001b[1mModel: \"functional_1\"\u001b[0m\n",
            "text/html": "<pre style=\"white-space:pre;overflow-x:auto;line-height:normal;font-family:Menlo,'DejaVu Sans Mono',consolas,'Courier New',monospace\"><span style=\"font-weight: bold\">Model: \"functional_1\"</span>\n</pre>\n"
          },
          "metadata": {}
        },
        {
          "output_type": "display_data",
          "data": {
            "text/plain": "┏━━━━━━━━━━━━━━━━━━━━━━━━━━━┳━━━━━━━━━━━━━━━━━━━━━━━━┳━━━━━━━━━━━━━━━━┳━━━━━━━━━━━━━━━━━━━━━━━━┓\n┃\u001b[1m \u001b[0m\u001b[1mLayer (type)             \u001b[0m\u001b[1m \u001b[0m┃\u001b[1m \u001b[0m\u001b[1mOutput Shape          \u001b[0m\u001b[1m \u001b[0m┃\u001b[1m \u001b[0m\u001b[1m       Param #\u001b[0m\u001b[1m \u001b[0m┃\u001b[1m \u001b[0m\u001b[1mConnected to          \u001b[0m\u001b[1m \u001b[0m┃\n┡━━━━━━━━━━━━━━━━━━━━━━━━━━━╇━━━━━━━━━━━━━━━━━━━━━━━━╇━━━━━━━━━━━━━━━━╇━━━━━━━━━━━━━━━━━━━━━━━━┩\n│ book_input (\u001b[38;5;33mInputLayer\u001b[0m)   │ (\u001b[38;5;45mNone\u001b[0m, \u001b[38;5;34m5\u001b[0m)              │              \u001b[38;5;34m0\u001b[0m │ -                      │\n├───────────────────────────┼────────────────────────┼────────────────┼────────────────────────┤\n│ embedding_1 (\u001b[38;5;33mEmbedding\u001b[0m)   │ (\u001b[38;5;45mNone\u001b[0m, \u001b[38;5;34m5\u001b[0m, \u001b[38;5;34m64\u001b[0m)          │        \u001b[38;5;34m483,264\u001b[0m │ book_input[\u001b[38;5;34m0\u001b[0m][\u001b[38;5;34m0\u001b[0m]       │\n├───────────────────────────┼────────────────────────┼────────────────┼────────────────────────┤\n│ meta_input (\u001b[38;5;33mInputLayer\u001b[0m)   │ (\u001b[38;5;45mNone\u001b[0m, \u001b[38;5;34m5\u001b[0m, \u001b[38;5;34m2\u001b[0m)           │              \u001b[38;5;34m0\u001b[0m │ -                      │\n├───────────────────────────┼────────────────────────┼────────────────┼────────────────────────┤\n│ concatenate_1             │ (\u001b[38;5;45mNone\u001b[0m, \u001b[38;5;34m5\u001b[0m, \u001b[38;5;34m66\u001b[0m)          │              \u001b[38;5;34m0\u001b[0m │ embedding_1[\u001b[38;5;34m0\u001b[0m][\u001b[38;5;34m0\u001b[0m],     │\n│ (\u001b[38;5;33mConcatenate\u001b[0m)             │                        │                │ meta_input[\u001b[38;5;34m0\u001b[0m][\u001b[38;5;34m0\u001b[0m]       │\n├───────────────────────────┼────────────────────────┼────────────────┼────────────────────────┤\n│ lstm_2 (\u001b[38;5;33mLSTM\u001b[0m)             │ (\u001b[38;5;45mNone\u001b[0m, \u001b[38;5;34m5\u001b[0m, \u001b[38;5;34m128\u001b[0m)         │         \u001b[38;5;34m99,840\u001b[0m │ concatenate_1[\u001b[38;5;34m0\u001b[0m][\u001b[38;5;34m0\u001b[0m]    │\n├───────────────────────────┼────────────────────────┼────────────────┼────────────────────────┤\n│ lstm_3 (\u001b[38;5;33mLSTM\u001b[0m)             │ (\u001b[38;5;45mNone\u001b[0m, \u001b[38;5;34m64\u001b[0m)             │         \u001b[38;5;34m49,408\u001b[0m │ lstm_2[\u001b[38;5;34m0\u001b[0m][\u001b[38;5;34m0\u001b[0m]           │\n├───────────────────────────┼────────────────────────┼────────────────┼────────────────────────┤\n│ dropout_1 (\u001b[38;5;33mDropout\u001b[0m)       │ (\u001b[38;5;45mNone\u001b[0m, \u001b[38;5;34m64\u001b[0m)             │              \u001b[38;5;34m0\u001b[0m │ lstm_3[\u001b[38;5;34m0\u001b[0m][\u001b[38;5;34m0\u001b[0m]           │\n├───────────────────────────┼────────────────────────┼────────────────┼────────────────────────┤\n│ dense_1 (\u001b[38;5;33mDense\u001b[0m)           │ (\u001b[38;5;45mNone\u001b[0m, \u001b[38;5;34m7551\u001b[0m)           │        \u001b[38;5;34m490,815\u001b[0m │ dropout_1[\u001b[38;5;34m0\u001b[0m][\u001b[38;5;34m0\u001b[0m]        │\n└───────────────────────────┴────────────────────────┴────────────────┴────────────────────────┘\n",
            "text/html": "<pre style=\"white-space:pre;overflow-x:auto;line-height:normal;font-family:Menlo,'DejaVu Sans Mono',consolas,'Courier New',monospace\">┏━━━━━━━━━━━━━━━━━━━━━━━━━━━┳━━━━━━━━━━━━━━━━━━━━━━━━┳━━━━━━━━━━━━━━━━┳━━━━━━━━━━━━━━━━━━━━━━━━┓\n┃<span style=\"font-weight: bold\"> Layer (type)              </span>┃<span style=\"font-weight: bold\"> Output Shape           </span>┃<span style=\"font-weight: bold\">        Param # </span>┃<span style=\"font-weight: bold\"> Connected to           </span>┃\n┡━━━━━━━━━━━━━━━━━━━━━━━━━━━╇━━━━━━━━━━━━━━━━━━━━━━━━╇━━━━━━━━━━━━━━━━╇━━━━━━━━━━━━━━━━━━━━━━━━┩\n│ book_input (<span style=\"color: #0087ff; text-decoration-color: #0087ff\">InputLayer</span>)   │ (<span style=\"color: #00d7ff; text-decoration-color: #00d7ff\">None</span>, <span style=\"color: #00af00; text-decoration-color: #00af00\">5</span>)              │              <span style=\"color: #00af00; text-decoration-color: #00af00\">0</span> │ -                      │\n├───────────────────────────┼────────────────────────┼────────────────┼────────────────────────┤\n│ embedding_1 (<span style=\"color: #0087ff; text-decoration-color: #0087ff\">Embedding</span>)   │ (<span style=\"color: #00d7ff; text-decoration-color: #00d7ff\">None</span>, <span style=\"color: #00af00; text-decoration-color: #00af00\">5</span>, <span style=\"color: #00af00; text-decoration-color: #00af00\">64</span>)          │        <span style=\"color: #00af00; text-decoration-color: #00af00\">483,264</span> │ book_input[<span style=\"color: #00af00; text-decoration-color: #00af00\">0</span>][<span style=\"color: #00af00; text-decoration-color: #00af00\">0</span>]       │\n├───────────────────────────┼────────────────────────┼────────────────┼────────────────────────┤\n│ meta_input (<span style=\"color: #0087ff; text-decoration-color: #0087ff\">InputLayer</span>)   │ (<span style=\"color: #00d7ff; text-decoration-color: #00d7ff\">None</span>, <span style=\"color: #00af00; text-decoration-color: #00af00\">5</span>, <span style=\"color: #00af00; text-decoration-color: #00af00\">2</span>)           │              <span style=\"color: #00af00; text-decoration-color: #00af00\">0</span> │ -                      │\n├───────────────────────────┼────────────────────────┼────────────────┼────────────────────────┤\n│ concatenate_1             │ (<span style=\"color: #00d7ff; text-decoration-color: #00d7ff\">None</span>, <span style=\"color: #00af00; text-decoration-color: #00af00\">5</span>, <span style=\"color: #00af00; text-decoration-color: #00af00\">66</span>)          │              <span style=\"color: #00af00; text-decoration-color: #00af00\">0</span> │ embedding_1[<span style=\"color: #00af00; text-decoration-color: #00af00\">0</span>][<span style=\"color: #00af00; text-decoration-color: #00af00\">0</span>],     │\n│ (<span style=\"color: #0087ff; text-decoration-color: #0087ff\">Concatenate</span>)             │                        │                │ meta_input[<span style=\"color: #00af00; text-decoration-color: #00af00\">0</span>][<span style=\"color: #00af00; text-decoration-color: #00af00\">0</span>]       │\n├───────────────────────────┼────────────────────────┼────────────────┼────────────────────────┤\n│ lstm_2 (<span style=\"color: #0087ff; text-decoration-color: #0087ff\">LSTM</span>)             │ (<span style=\"color: #00d7ff; text-decoration-color: #00d7ff\">None</span>, <span style=\"color: #00af00; text-decoration-color: #00af00\">5</span>, <span style=\"color: #00af00; text-decoration-color: #00af00\">128</span>)         │         <span style=\"color: #00af00; text-decoration-color: #00af00\">99,840</span> │ concatenate_1[<span style=\"color: #00af00; text-decoration-color: #00af00\">0</span>][<span style=\"color: #00af00; text-decoration-color: #00af00\">0</span>]    │\n├───────────────────────────┼────────────────────────┼────────────────┼────────────────────────┤\n│ lstm_3 (<span style=\"color: #0087ff; text-decoration-color: #0087ff\">LSTM</span>)             │ (<span style=\"color: #00d7ff; text-decoration-color: #00d7ff\">None</span>, <span style=\"color: #00af00; text-decoration-color: #00af00\">64</span>)             │         <span style=\"color: #00af00; text-decoration-color: #00af00\">49,408</span> │ lstm_2[<span style=\"color: #00af00; text-decoration-color: #00af00\">0</span>][<span style=\"color: #00af00; text-decoration-color: #00af00\">0</span>]           │\n├───────────────────────────┼────────────────────────┼────────────────┼────────────────────────┤\n│ dropout_1 (<span style=\"color: #0087ff; text-decoration-color: #0087ff\">Dropout</span>)       │ (<span style=\"color: #00d7ff; text-decoration-color: #00d7ff\">None</span>, <span style=\"color: #00af00; text-decoration-color: #00af00\">64</span>)             │              <span style=\"color: #00af00; text-decoration-color: #00af00\">0</span> │ lstm_3[<span style=\"color: #00af00; text-decoration-color: #00af00\">0</span>][<span style=\"color: #00af00; text-decoration-color: #00af00\">0</span>]           │\n├───────────────────────────┼────────────────────────┼────────────────┼────────────────────────┤\n│ dense_1 (<span style=\"color: #0087ff; text-decoration-color: #0087ff\">Dense</span>)           │ (<span style=\"color: #00d7ff; text-decoration-color: #00d7ff\">None</span>, <span style=\"color: #00af00; text-decoration-color: #00af00\">7551</span>)           │        <span style=\"color: #00af00; text-decoration-color: #00af00\">490,815</span> │ dropout_1[<span style=\"color: #00af00; text-decoration-color: #00af00\">0</span>][<span style=\"color: #00af00; text-decoration-color: #00af00\">0</span>]        │\n└───────────────────────────┴────────────────────────┴────────────────┴────────────────────────┘\n</pre>\n"
          },
          "metadata": {}
        },
        {
          "output_type": "display_data",
          "data": {
            "text/plain": "\u001b[1m Total params: \u001b[0m\u001b[38;5;34m1,123,327\u001b[0m (4.29 MB)\n",
            "text/html": "<pre style=\"white-space:pre;overflow-x:auto;line-height:normal;font-family:Menlo,'DejaVu Sans Mono',consolas,'Courier New',monospace\"><span style=\"font-weight: bold\"> Total params: </span><span style=\"color: #00af00; text-decoration-color: #00af00\">1,123,327</span> (4.29 MB)\n</pre>\n"
          },
          "metadata": {}
        },
        {
          "output_type": "display_data",
          "data": {
            "text/plain": "\u001b[1m Trainable params: \u001b[0m\u001b[38;5;34m1,123,327\u001b[0m (4.29 MB)\n",
            "text/html": "<pre style=\"white-space:pre;overflow-x:auto;line-height:normal;font-family:Menlo,'DejaVu Sans Mono',consolas,'Courier New',monospace\"><span style=\"font-weight: bold\"> Trainable params: </span><span style=\"color: #00af00; text-decoration-color: #00af00\">1,123,327</span> (4.29 MB)\n</pre>\n"
          },
          "metadata": {}
        },
        {
          "output_type": "display_data",
          "data": {
            "text/plain": "\u001b[1m Non-trainable params: \u001b[0m\u001b[38;5;34m0\u001b[0m (0.00 B)\n",
            "text/html": "<pre style=\"white-space:pre;overflow-x:auto;line-height:normal;font-family:Menlo,'DejaVu Sans Mono',consolas,'Courier New',monospace\"><span style=\"font-weight: bold\"> Non-trainable params: </span><span style=\"color: #00af00; text-decoration-color: #00af00\">0</span> (0.00 B)\n</pre>\n"
          },
          "metadata": {}
        }
      ],
      "execution_count": null
    },
    {
      "cell_type": "code",
      "source": [
        "# ===================== 🏋️‍♂️ TRAINING =====================\n",
        "early_stop = EarlyStopping(monitor='val_loss', patience=3, restore_best_weights=True)\n",
        "\n",
        "model.fit(\n",
        "    [X_train, Xmeta_train], y_train,\n",
        "    validation_data=([X_val, Xmeta_val], y_val),\n",
        "    batch_size=128,\n",
        "    epochs=20,\n",
        "    callbacks=[early_stop]\n",
        ")"
      ],
      "metadata": {
        "trusted": true,
        "execution": {
          "iopub.status.busy": "2025-06-25T04:59:09.541511Z",
          "iopub.execute_input": "2025-06-25T04:59:09.541778Z",
          "iopub.status.idle": "2025-06-25T05:06:59.319381Z",
          "shell.execute_reply.started": "2025-06-25T04:59:09.541758Z",
          "shell.execute_reply": "2025-06-25T05:06:59.318792Z"
        },
        "id": "FWd9U5szrp26",
        "outputId": "720ad4ae-0d0a-48a4-e6d3-6aca997b0d72"
      },
      "outputs": [
        {
          "name": "stdout",
          "text": "Epoch 1/20\n",
          "output_type": "stream"
        },
        {
          "name": "stderr",
          "text": "I0000 00:00:1750827553.275279     104 cuda_dnn.cc:529] Loaded cuDNN version 90300\n",
          "output_type": "stream"
        },
        {
          "name": "stdout",
          "text": "\u001b[1m3935/3935\u001b[0m \u001b[32m━━━━━━━━━━━━━━━━━━━━\u001b[0m\u001b[37m\u001b[0m \u001b[1m30s\u001b[0m 6ms/step - loss: 8.1384 - top_5_accuracy: 0.0087 - val_loss: 6.4408 - val_top_5_accuracy: 0.0486\nEpoch 2/20\n\u001b[1m3935/3935\u001b[0m \u001b[32m━━━━━━━━━━━━━━━━━━━━\u001b[0m\u001b[37m\u001b[0m \u001b[1m24s\u001b[0m 6ms/step - loss: 6.2930 - top_5_accuracy: 0.0579 - val_loss: 5.7712 - val_top_5_accuracy: 0.1025\nEpoch 3/20\n\u001b[1m3935/3935\u001b[0m \u001b[32m━━━━━━━━━━━━━━━━━━━━\u001b[0m\u001b[37m\u001b[0m \u001b[1m24s\u001b[0m 6ms/step - loss: 5.7586 - top_5_accuracy: 0.1056 - val_loss: 5.4785 - val_top_5_accuracy: 0.1412\nEpoch 4/20\n\u001b[1m3935/3935\u001b[0m \u001b[32m━━━━━━━━━━━━━━━━━━━━\u001b[0m\u001b[37m\u001b[0m \u001b[1m24s\u001b[0m 6ms/step - loss: 5.4984 - top_5_accuracy: 0.1398 - val_loss: 5.3035 - val_top_5_accuracy: 0.1724\nEpoch 5/20\n\u001b[1m3935/3935\u001b[0m \u001b[32m━━━━━━━━━━━━━━━━━━━━\u001b[0m\u001b[37m\u001b[0m \u001b[1m24s\u001b[0m 6ms/step - loss: 5.3254 - top_5_accuracy: 0.1682 - val_loss: 5.1682 - val_top_5_accuracy: 0.1958\nEpoch 6/20\n\u001b[1m3935/3935\u001b[0m \u001b[32m━━━━━━━━━━━━━━━━━━━━\u001b[0m\u001b[37m\u001b[0m \u001b[1m24s\u001b[0m 6ms/step - loss: 5.1878 - top_5_accuracy: 0.1915 - val_loss: 5.0776 - val_top_5_accuracy: 0.2110\nEpoch 7/20\n\u001b[1m3935/3935\u001b[0m \u001b[32m━━━━━━━━━━━━━━━━━━━━\u001b[0m\u001b[37m\u001b[0m \u001b[1m24s\u001b[0m 6ms/step - loss: 5.0805 - top_5_accuracy: 0.2102 - val_loss: 4.9989 - val_top_5_accuracy: 0.2242\nEpoch 8/20\n\u001b[1m3935/3935\u001b[0m \u001b[32m━━━━━━━━━━━━━━━━━━━━\u001b[0m\u001b[37m\u001b[0m \u001b[1m25s\u001b[0m 6ms/step - loss: 4.9903 - top_5_accuracy: 0.2285 - val_loss: 4.9440 - val_top_5_accuracy: 0.2375\nEpoch 9/20\n\u001b[1m3935/3935\u001b[0m \u001b[32m━━━━━━━━━━━━━━━━━━━━\u001b[0m\u001b[37m\u001b[0m \u001b[1m25s\u001b[0m 6ms/step - loss: 4.9185 - top_5_accuracy: 0.2415 - val_loss: 4.9073 - val_top_5_accuracy: 0.2455\nEpoch 10/20\n\u001b[1m3935/3935\u001b[0m \u001b[32m━━━━━━━━━━━━━━━━━━━━\u001b[0m\u001b[37m\u001b[0m \u001b[1m24s\u001b[0m 6ms/step - loss: 4.8455 - top_5_accuracy: 0.2548 - val_loss: 4.8761 - val_top_5_accuracy: 0.2508\nEpoch 11/20\n\u001b[1m3935/3935\u001b[0m \u001b[32m━━━━━━━━━━━━━━━━━━━━\u001b[0m\u001b[37m\u001b[0m \u001b[1m24s\u001b[0m 6ms/step - loss: 4.7895 - top_5_accuracy: 0.2653 - val_loss: 4.8495 - val_top_5_accuracy: 0.2579\nEpoch 12/20\n\u001b[1m3935/3935\u001b[0m \u001b[32m━━━━━━━━━━━━━━━━━━━━\u001b[0m\u001b[37m\u001b[0m \u001b[1m24s\u001b[0m 6ms/step - loss: 4.7406 - top_5_accuracy: 0.2762 - val_loss: 4.8374 - val_top_5_accuracy: 0.2606\nEpoch 13/20\n\u001b[1m3935/3935\u001b[0m \u001b[32m━━━━━━━━━━━━━━━━━━━━\u001b[0m\u001b[37m\u001b[0m \u001b[1m24s\u001b[0m 6ms/step - loss: 4.6909 - top_5_accuracy: 0.2846 - val_loss: 4.8292 - val_top_5_accuracy: 0.2645\nEpoch 14/20\n\u001b[1m3935/3935\u001b[0m \u001b[32m━━━━━━━━━━━━━━━━━━━━\u001b[0m\u001b[37m\u001b[0m \u001b[1m25s\u001b[0m 6ms/step - loss: 4.6395 - top_5_accuracy: 0.2940 - val_loss: 4.8201 - val_top_5_accuracy: 0.2668\nEpoch 15/20\n\u001b[1m3935/3935\u001b[0m \u001b[32m━━━━━━━━━━━━━━━━━━━━\u001b[0m\u001b[37m\u001b[0m \u001b[1m25s\u001b[0m 6ms/step - loss: 4.5978 - top_5_accuracy: 0.3029 - val_loss: 4.8185 - val_top_5_accuracy: 0.2671\nEpoch 16/20\n\u001b[1m3935/3935\u001b[0m \u001b[32m━━━━━━━━━━━━━━━━━━━━\u001b[0m\u001b[37m\u001b[0m \u001b[1m24s\u001b[0m 6ms/step - loss: 4.5553 - top_5_accuracy: 0.3098 - val_loss: 4.8144 - val_top_5_accuracy: 0.2697\nEpoch 17/20\n\u001b[1m3935/3935\u001b[0m \u001b[32m━━━━━━━━━━━━━━━━━━━━\u001b[0m\u001b[37m\u001b[0m \u001b[1m24s\u001b[0m 6ms/step - loss: 4.5160 - top_5_accuracy: 0.3188 - val_loss: 4.8163 - val_top_5_accuracy: 0.2683\nEpoch 18/20\n\u001b[1m3935/3935\u001b[0m \u001b[32m━━━━━━━━━━━━━━━━━━━━\u001b[0m\u001b[37m\u001b[0m \u001b[1m24s\u001b[0m 6ms/step - loss: 4.4766 - top_5_accuracy: 0.3262 - val_loss: 4.8218 - val_top_5_accuracy: 0.2690\nEpoch 19/20\n\u001b[1m3935/3935\u001b[0m \u001b[32m━━━━━━━━━━━━━━━━━━━━\u001b[0m\u001b[37m\u001b[0m \u001b[1m24s\u001b[0m 6ms/step - loss: 4.4407 - top_5_accuracy: 0.3315 - val_loss: 4.8317 - val_top_5_accuracy: 0.2703\n",
          "output_type": "stream"
        },
        {
          "execution_count": 11,
          "output_type": "execute_result",
          "data": {
            "text/plain": "<keras.src.callbacks.history.History at 0x7ad779b96650>"
          },
          "metadata": {}
        }
      ],
      "execution_count": null
    },
    {
      "cell_type": "code",
      "source": [
        "val_loss, val_top5 = model.evaluate([X_val, Xmeta_val], y_val)\n",
        "print(f\"✅ Validation Top-5 Accuracy: {val_top5:.4f}\")\n"
      ],
      "metadata": {
        "trusted": true,
        "execution": {
          "iopub.status.busy": "2025-06-25T05:07:58.891988Z",
          "iopub.execute_input": "2025-06-25T05:07:58.892265Z",
          "iopub.status.idle": "2025-06-25T05:08:04.676901Z",
          "shell.execute_reply.started": "2025-06-25T05:07:58.892245Z",
          "shell.execute_reply": "2025-06-25T05:08:04.676301Z"
        },
        "id": "6uG2Fmlprp27",
        "outputId": "ec0d2214-0d56-41b2-d71e-7c7e0e4f40bf"
      },
      "outputs": [
        {
          "name": "stdout",
          "text": "\u001b[1m1749/1749\u001b[0m \u001b[32m━━━━━━━━━━━━━━━━━━━━\u001b[0m\u001b[37m\u001b[0m \u001b[1m6s\u001b[0m 3ms/step - loss: 4.8311 - top_5_accuracy: 0.2668\n✅ Validation Top-5 Accuracy: 0.2697\n",
          "output_type": "stream"
        }
      ],
      "execution_count": null
    },
    {
      "cell_type": "code",
      "source": [
        "import pandas as pd\n",
        "import numpy as np\n",
        "from sklearn.preprocessing import LabelEncoder\n",
        "from sklearn.model_selection import train_test_split\n",
        "from tensorflow.keras.models import Model\n",
        "from tensorflow.keras.layers import Input, Embedding, GRU, Dense, Concatenate, Dropout\n",
        "from tensorflow.keras.callbacks import EarlyStopping\n",
        "from tensorflow.keras.metrics import TopKCategoricalAccuracy\n",
        "\n",
        "# ========== Load Data ==========\n",
        "ratings = pd.read_csv('/kaggle/input/goodbooks-10k/ratings.csv')\n",
        "to_read = pd.read_csv('/kaggle/input/goodbooks-10k/to_read.csv')\n",
        "books = pd.read_csv('/kaggle/input/goodbooks-10k/books.csv')\n",
        "\n",
        "# ========== Filter Rare Books ==========\n",
        "popular_books = to_read['book_id'].value_counts()\n",
        "popular_books = popular_books[popular_books >= 20].index.tolist()\n",
        "ratings = ratings[ratings['book_id'].isin(popular_books)]\n",
        "\n",
        "# ========== Sort and Encode ==========\n",
        "ratings = ratings.sort_values(['user_id', 'book_id'])\n",
        "user_enc = LabelEncoder()\n",
        "book_enc = LabelEncoder()\n",
        "\n",
        "ratings['user'] = user_enc.fit_transform(ratings['user_id'])\n",
        "ratings['book'] = book_enc.fit_transform(ratings['book_id'])\n",
        "\n",
        "n_users = ratings['user'].nunique()\n",
        "n_books = ratings['book'].nunique()\n",
        "\n",
        "# ========== Build Sequences ==========\n",
        "def create_sequences(df, sequence_length=5):\n",
        "    X, y = [], []\n",
        "    for user in df['user'].unique():\n",
        "        user_data = df[df['user'] == user]['book'].tolist()\n",
        "        if len(user_data) > sequence_length:\n",
        "            for i in range(len(user_data) - sequence_length):\n",
        "                X.append(user_data[i:i+sequence_length])\n",
        "                y.append(user_data[i+sequence_length])\n",
        "    return np.array(X), np.array(y)\n",
        "\n",
        "X, y = create_sequences(ratings)\n",
        "\n",
        "# ========== Prepare Metadata ==========\n",
        "book_meta = books[['book_id', 'average_rating', 'ratings_count']]\n",
        "book_meta = book_meta[book_meta['book_id'].isin(book_enc.inverse_transform(range(n_books)))]\n",
        "book_meta['book'] = book_enc.transform(book_meta['book_id'])\n",
        "\n",
        "# Normalize metadata\n",
        "book_features = book_meta.set_index('book')[['average_rating', 'ratings_count']].fillna(0)\n",
        "book_features['ratings_count'] = np.log1p(book_features['ratings_count'])\n",
        "\n",
        "# Build feature matrix\n",
        "book_feature_matrix = np.zeros((n_books, 2), dtype=np.float32)\n",
        "for book_id in book_features.index:\n",
        "    book_feature_matrix[book_id] = book_features.loc[book_id].values\n",
        "\n",
        "# Map metadata to each sequence\n",
        "X_metadata = np.array([\n",
        "    [book_feature_matrix[book_id] for book_id in seq]\n",
        "    for seq in X\n",
        "], dtype=np.float32)\n",
        "\n",
        "# ========== Train/Validation Split ==========\n",
        "X_train, X_val, Xmeta_train, Xmeta_val, y_train, y_val = train_test_split(\n",
        "    X, X_metadata, y, test_size=0.1, random_state=42\n",
        ")\n",
        "\n",
        "# ========== Build GRU Model ==========\n",
        "embedding_dim = 64\n",
        "meta_dim = 2\n",
        "seq_len = X.shape[1]\n",
        "\n",
        "book_input = Input(shape=(seq_len,), name='book_input')\n",
        "meta_input = Input(shape=(seq_len, meta_dim), name='meta_input')\n",
        "\n",
        "# Embedding + metadata concatenation\n",
        "book_embedding = Embedding(input_dim=n_books, output_dim=embedding_dim)(book_input)\n",
        "merged = Concatenate()([book_embedding, meta_input])\n",
        "\n",
        "# GRU layers\n",
        "x = GRU(128, return_sequences=True)(merged)\n",
        "x = GRU(64)(x)\n",
        "x = Dropout(0.3)(x)\n",
        "\n",
        "# Output layer\n",
        "output = Dense(n_books, activation='softmax')(x)\n",
        "\n",
        "from tensorflow.keras.metrics import SparseTopKCategoricalAccuracy  # ✅ Add this\n",
        "\n",
        "model.compile(\n",
        "    loss='sparse_categorical_crossentropy',\n",
        "    optimizer='adam',\n",
        "    metrics=[SparseTopKCategoricalAccuracy(k=5, name='top_5_accuracy')]  # ✅ Fix\n",
        ")\n",
        "\n",
        "model.summary()"
      ],
      "metadata": {
        "trusted": true,
        "execution": {
          "iopub.status.busy": "2025-06-25T05:22:06.158706Z",
          "iopub.execute_input": "2025-06-25T05:22:06.158995Z",
          "iopub.status.idle": "2025-06-25T05:22:48.484798Z",
          "shell.execute_reply.started": "2025-06-25T05:22:06.158975Z",
          "shell.execute_reply": "2025-06-25T05:22:48.484212Z"
        },
        "id": "tGiaiHvdrp27",
        "outputId": "26a7b200-4ce7-4b55-dbd4-8c0aa706d7e6"
      },
      "outputs": [
        {
          "output_type": "display_data",
          "data": {
            "text/plain": "\u001b[1mModel: \"functional_3\"\u001b[0m\n",
            "text/html": "<pre style=\"white-space:pre;overflow-x:auto;line-height:normal;font-family:Menlo,'DejaVu Sans Mono',consolas,'Courier New',monospace\"><span style=\"font-weight: bold\">Model: \"functional_3\"</span>\n</pre>\n"
          },
          "metadata": {}
        },
        {
          "output_type": "display_data",
          "data": {
            "text/plain": "┏━━━━━━━━━━━━━━━━━━━━━━━━━━━┳━━━━━━━━━━━━━━━━━━━━━━━━┳━━━━━━━━━━━━━━━━┳━━━━━━━━━━━━━━━━━━━━━━━━┓\n┃\u001b[1m \u001b[0m\u001b[1mLayer (type)             \u001b[0m\u001b[1m \u001b[0m┃\u001b[1m \u001b[0m\u001b[1mOutput Shape          \u001b[0m\u001b[1m \u001b[0m┃\u001b[1m \u001b[0m\u001b[1m       Param #\u001b[0m\u001b[1m \u001b[0m┃\u001b[1m \u001b[0m\u001b[1mConnected to          \u001b[0m\u001b[1m \u001b[0m┃\n┡━━━━━━━━━━━━━━━━━━━━━━━━━━━╇━━━━━━━━━━━━━━━━━━━━━━━━╇━━━━━━━━━━━━━━━━╇━━━━━━━━━━━━━━━━━━━━━━━━┩\n│ book_input (\u001b[38;5;33mInputLayer\u001b[0m)   │ (\u001b[38;5;45mNone\u001b[0m, \u001b[38;5;34m5\u001b[0m)              │              \u001b[38;5;34m0\u001b[0m │ -                      │\n├───────────────────────────┼────────────────────────┼────────────────┼────────────────────────┤\n│ embedding_4 (\u001b[38;5;33mEmbedding\u001b[0m)   │ (\u001b[38;5;45mNone\u001b[0m, \u001b[38;5;34m5\u001b[0m, \u001b[38;5;34m64\u001b[0m)          │        \u001b[38;5;34m483,264\u001b[0m │ book_input[\u001b[38;5;34m0\u001b[0m][\u001b[38;5;34m0\u001b[0m]       │\n├───────────────────────────┼────────────────────────┼────────────────┼────────────────────────┤\n│ meta_input (\u001b[38;5;33mInputLayer\u001b[0m)   │ (\u001b[38;5;45mNone\u001b[0m, \u001b[38;5;34m5\u001b[0m, \u001b[38;5;34m2\u001b[0m)           │              \u001b[38;5;34m0\u001b[0m │ -                      │\n├───────────────────────────┼────────────────────────┼────────────────┼────────────────────────┤\n│ concatenate_4             │ (\u001b[38;5;45mNone\u001b[0m, \u001b[38;5;34m5\u001b[0m, \u001b[38;5;34m66\u001b[0m)          │              \u001b[38;5;34m0\u001b[0m │ embedding_4[\u001b[38;5;34m0\u001b[0m][\u001b[38;5;34m0\u001b[0m],     │\n│ (\u001b[38;5;33mConcatenate\u001b[0m)             │                        │                │ meta_input[\u001b[38;5;34m0\u001b[0m][\u001b[38;5;34m0\u001b[0m]       │\n├───────────────────────────┼────────────────────────┼────────────────┼────────────────────────┤\n│ gru_2 (\u001b[38;5;33mGRU\u001b[0m)               │ (\u001b[38;5;45mNone\u001b[0m, \u001b[38;5;34m5\u001b[0m, \u001b[38;5;34m128\u001b[0m)         │         \u001b[38;5;34m75,264\u001b[0m │ concatenate_4[\u001b[38;5;34m0\u001b[0m][\u001b[38;5;34m0\u001b[0m]    │\n├───────────────────────────┼────────────────────────┼────────────────┼────────────────────────┤\n│ gru_3 (\u001b[38;5;33mGRU\u001b[0m)               │ (\u001b[38;5;45mNone\u001b[0m, \u001b[38;5;34m64\u001b[0m)             │         \u001b[38;5;34m37,248\u001b[0m │ gru_2[\u001b[38;5;34m0\u001b[0m][\u001b[38;5;34m0\u001b[0m]            │\n├───────────────────────────┼────────────────────────┼────────────────┼────────────────────────┤\n│ dropout_4 (\u001b[38;5;33mDropout\u001b[0m)       │ (\u001b[38;5;45mNone\u001b[0m, \u001b[38;5;34m64\u001b[0m)             │              \u001b[38;5;34m0\u001b[0m │ gru_3[\u001b[38;5;34m0\u001b[0m][\u001b[38;5;34m0\u001b[0m]            │\n├───────────────────────────┼────────────────────────┼────────────────┼────────────────────────┤\n│ dense_4 (\u001b[38;5;33mDense\u001b[0m)           │ (\u001b[38;5;45mNone\u001b[0m, \u001b[38;5;34m7551\u001b[0m)           │        \u001b[38;5;34m490,815\u001b[0m │ dropout_4[\u001b[38;5;34m0\u001b[0m][\u001b[38;5;34m0\u001b[0m]        │\n└───────────────────────────┴────────────────────────┴────────────────┴────────────────────────┘\n",
            "text/html": "<pre style=\"white-space:pre;overflow-x:auto;line-height:normal;font-family:Menlo,'DejaVu Sans Mono',consolas,'Courier New',monospace\">┏━━━━━━━━━━━━━━━━━━━━━━━━━━━┳━━━━━━━━━━━━━━━━━━━━━━━━┳━━━━━━━━━━━━━━━━┳━━━━━━━━━━━━━━━━━━━━━━━━┓\n┃<span style=\"font-weight: bold\"> Layer (type)              </span>┃<span style=\"font-weight: bold\"> Output Shape           </span>┃<span style=\"font-weight: bold\">        Param # </span>┃<span style=\"font-weight: bold\"> Connected to           </span>┃\n┡━━━━━━━━━━━━━━━━━━━━━━━━━━━╇━━━━━━━━━━━━━━━━━━━━━━━━╇━━━━━━━━━━━━━━━━╇━━━━━━━━━━━━━━━━━━━━━━━━┩\n│ book_input (<span style=\"color: #0087ff; text-decoration-color: #0087ff\">InputLayer</span>)   │ (<span style=\"color: #00d7ff; text-decoration-color: #00d7ff\">None</span>, <span style=\"color: #00af00; text-decoration-color: #00af00\">5</span>)              │              <span style=\"color: #00af00; text-decoration-color: #00af00\">0</span> │ -                      │\n├───────────────────────────┼────────────────────────┼────────────────┼────────────────────────┤\n│ embedding_4 (<span style=\"color: #0087ff; text-decoration-color: #0087ff\">Embedding</span>)   │ (<span style=\"color: #00d7ff; text-decoration-color: #00d7ff\">None</span>, <span style=\"color: #00af00; text-decoration-color: #00af00\">5</span>, <span style=\"color: #00af00; text-decoration-color: #00af00\">64</span>)          │        <span style=\"color: #00af00; text-decoration-color: #00af00\">483,264</span> │ book_input[<span style=\"color: #00af00; text-decoration-color: #00af00\">0</span>][<span style=\"color: #00af00; text-decoration-color: #00af00\">0</span>]       │\n├───────────────────────────┼────────────────────────┼────────────────┼────────────────────────┤\n│ meta_input (<span style=\"color: #0087ff; text-decoration-color: #0087ff\">InputLayer</span>)   │ (<span style=\"color: #00d7ff; text-decoration-color: #00d7ff\">None</span>, <span style=\"color: #00af00; text-decoration-color: #00af00\">5</span>, <span style=\"color: #00af00; text-decoration-color: #00af00\">2</span>)           │              <span style=\"color: #00af00; text-decoration-color: #00af00\">0</span> │ -                      │\n├───────────────────────────┼────────────────────────┼────────────────┼────────────────────────┤\n│ concatenate_4             │ (<span style=\"color: #00d7ff; text-decoration-color: #00d7ff\">None</span>, <span style=\"color: #00af00; text-decoration-color: #00af00\">5</span>, <span style=\"color: #00af00; text-decoration-color: #00af00\">66</span>)          │              <span style=\"color: #00af00; text-decoration-color: #00af00\">0</span> │ embedding_4[<span style=\"color: #00af00; text-decoration-color: #00af00\">0</span>][<span style=\"color: #00af00; text-decoration-color: #00af00\">0</span>],     │\n│ (<span style=\"color: #0087ff; text-decoration-color: #0087ff\">Concatenate</span>)             │                        │                │ meta_input[<span style=\"color: #00af00; text-decoration-color: #00af00\">0</span>][<span style=\"color: #00af00; text-decoration-color: #00af00\">0</span>]       │\n├───────────────────────────┼────────────────────────┼────────────────┼────────────────────────┤\n│ gru_2 (<span style=\"color: #0087ff; text-decoration-color: #0087ff\">GRU</span>)               │ (<span style=\"color: #00d7ff; text-decoration-color: #00d7ff\">None</span>, <span style=\"color: #00af00; text-decoration-color: #00af00\">5</span>, <span style=\"color: #00af00; text-decoration-color: #00af00\">128</span>)         │         <span style=\"color: #00af00; text-decoration-color: #00af00\">75,264</span> │ concatenate_4[<span style=\"color: #00af00; text-decoration-color: #00af00\">0</span>][<span style=\"color: #00af00; text-decoration-color: #00af00\">0</span>]    │\n├───────────────────────────┼────────────────────────┼────────────────┼────────────────────────┤\n│ gru_3 (<span style=\"color: #0087ff; text-decoration-color: #0087ff\">GRU</span>)               │ (<span style=\"color: #00d7ff; text-decoration-color: #00d7ff\">None</span>, <span style=\"color: #00af00; text-decoration-color: #00af00\">64</span>)             │         <span style=\"color: #00af00; text-decoration-color: #00af00\">37,248</span> │ gru_2[<span style=\"color: #00af00; text-decoration-color: #00af00\">0</span>][<span style=\"color: #00af00; text-decoration-color: #00af00\">0</span>]            │\n├───────────────────────────┼────────────────────────┼────────────────┼────────────────────────┤\n│ dropout_4 (<span style=\"color: #0087ff; text-decoration-color: #0087ff\">Dropout</span>)       │ (<span style=\"color: #00d7ff; text-decoration-color: #00d7ff\">None</span>, <span style=\"color: #00af00; text-decoration-color: #00af00\">64</span>)             │              <span style=\"color: #00af00; text-decoration-color: #00af00\">0</span> │ gru_3[<span style=\"color: #00af00; text-decoration-color: #00af00\">0</span>][<span style=\"color: #00af00; text-decoration-color: #00af00\">0</span>]            │\n├───────────────────────────┼────────────────────────┼────────────────┼────────────────────────┤\n│ dense_4 (<span style=\"color: #0087ff; text-decoration-color: #0087ff\">Dense</span>)           │ (<span style=\"color: #00d7ff; text-decoration-color: #00d7ff\">None</span>, <span style=\"color: #00af00; text-decoration-color: #00af00\">7551</span>)           │        <span style=\"color: #00af00; text-decoration-color: #00af00\">490,815</span> │ dropout_4[<span style=\"color: #00af00; text-decoration-color: #00af00\">0</span>][<span style=\"color: #00af00; text-decoration-color: #00af00\">0</span>]        │\n└───────────────────────────┴────────────────────────┴────────────────┴────────────────────────┘\n</pre>\n"
          },
          "metadata": {}
        },
        {
          "output_type": "display_data",
          "data": {
            "text/plain": "\u001b[1m Total params: \u001b[0m\u001b[38;5;34m1,086,591\u001b[0m (4.15 MB)\n",
            "text/html": "<pre style=\"white-space:pre;overflow-x:auto;line-height:normal;font-family:Menlo,'DejaVu Sans Mono',consolas,'Courier New',monospace\"><span style=\"font-weight: bold\"> Total params: </span><span style=\"color: #00af00; text-decoration-color: #00af00\">1,086,591</span> (4.15 MB)\n</pre>\n"
          },
          "metadata": {}
        },
        {
          "output_type": "display_data",
          "data": {
            "text/plain": "\u001b[1m Trainable params: \u001b[0m\u001b[38;5;34m1,086,591\u001b[0m (4.15 MB)\n",
            "text/html": "<pre style=\"white-space:pre;overflow-x:auto;line-height:normal;font-family:Menlo,'DejaVu Sans Mono',consolas,'Courier New',monospace\"><span style=\"font-weight: bold\"> Trainable params: </span><span style=\"color: #00af00; text-decoration-color: #00af00\">1,086,591</span> (4.15 MB)\n</pre>\n"
          },
          "metadata": {}
        },
        {
          "output_type": "display_data",
          "data": {
            "text/plain": "\u001b[1m Non-trainable params: \u001b[0m\u001b[38;5;34m0\u001b[0m (0.00 B)\n",
            "text/html": "<pre style=\"white-space:pre;overflow-x:auto;line-height:normal;font-family:Menlo,'DejaVu Sans Mono',consolas,'Courier New',monospace\"><span style=\"font-weight: bold\"> Non-trainable params: </span><span style=\"color: #00af00; text-decoration-color: #00af00\">0</span> (0.00 B)\n</pre>\n"
          },
          "metadata": {}
        }
      ],
      "execution_count": null
    },
    {
      "cell_type": "code",
      "source": [
        "# ========== Train Model ==========\n",
        "early_stop = EarlyStopping(monitor='val_loss', patience=3, restore_best_weights=True)\n",
        "\n",
        "model.fit(\n",
        "    [X_train, Xmeta_train], y_train,\n",
        "    validation_data=([X_val, Xmeta_val], y_val),\n",
        "    batch_size=128,\n",
        "    epochs=20,\n",
        "    callbacks=[early_stop]\n",
        ")"
      ],
      "metadata": {
        "trusted": true,
        "execution": {
          "iopub.status.busy": "2025-06-25T05:22:58.080746Z",
          "iopub.execute_input": "2025-06-25T05:22:58.081380Z",
          "iopub.status.idle": "2025-06-25T05:30:36.022104Z",
          "shell.execute_reply.started": "2025-06-25T05:22:58.081354Z",
          "shell.execute_reply": "2025-06-25T05:30:36.021451Z"
        },
        "id": "ip9ODd7grp28",
        "outputId": "c3bde9f3-9d80-4cb5-d9da-52fd3db0f9bc"
      },
      "outputs": [
        {
          "name": "stdout",
          "text": "Epoch 1/20\n\u001b[1m3935/3935\u001b[0m \u001b[32m━━━━━━━━━━━━━━━━━━━━\u001b[0m\u001b[37m\u001b[0m \u001b[1m27s\u001b[0m 6ms/step - loss: 8.0917 - top_5_accuracy: 0.0103 - val_loss: 6.4016 - val_top_5_accuracy: 0.0530\nEpoch 2/20\n\u001b[1m3935/3935\u001b[0m \u001b[32m━━━━━━━━━━━━━━━━━━━━\u001b[0m\u001b[37m\u001b[0m \u001b[1m24s\u001b[0m 6ms/step - loss: 6.2707 - top_5_accuracy: 0.0619 - val_loss: 5.7851 - val_top_5_accuracy: 0.1038\nEpoch 3/20\n\u001b[1m3935/3935\u001b[0m \u001b[32m━━━━━━━━━━━━━━━━━━━━\u001b[0m\u001b[37m\u001b[0m \u001b[1m24s\u001b[0m 6ms/step - loss: 5.7852 - top_5_accuracy: 0.1033 - val_loss: 5.5056 - val_top_5_accuracy: 0.1373\nEpoch 4/20\n\u001b[1m3935/3935\u001b[0m \u001b[32m━━━━━━━━━━━━━━━━━━━━\u001b[0m\u001b[37m\u001b[0m \u001b[1m24s\u001b[0m 6ms/step - loss: 5.5364 - top_5_accuracy: 0.1356 - val_loss: 5.3220 - val_top_5_accuracy: 0.1680\nEpoch 5/20\n\u001b[1m3935/3935\u001b[0m \u001b[32m━━━━━━━━━━━━━━━━━━━━\u001b[0m\u001b[37m\u001b[0m \u001b[1m24s\u001b[0m 6ms/step - loss: 5.3584 - top_5_accuracy: 0.1637 - val_loss: 5.1980 - val_top_5_accuracy: 0.1894\nEpoch 6/20\n\u001b[1m3935/3935\u001b[0m \u001b[32m━━━━━━━━━━━━━━━━━━━━\u001b[0m\u001b[37m\u001b[0m \u001b[1m24s\u001b[0m 6ms/step - loss: 5.2282 - top_5_accuracy: 0.1875 - val_loss: 5.1120 - val_top_5_accuracy: 0.2073\nEpoch 7/20\n\u001b[1m3935/3935\u001b[0m \u001b[32m━━━━━━━━━━━━━━━━━━━━\u001b[0m\u001b[37m\u001b[0m \u001b[1m24s\u001b[0m 6ms/step - loss: 5.1296 - top_5_accuracy: 0.2039 - val_loss: 5.0475 - val_top_5_accuracy: 0.2192\nEpoch 8/20\n\u001b[1m3935/3935\u001b[0m \u001b[32m━━━━━━━━━━━━━━━━━━━━\u001b[0m\u001b[37m\u001b[0m \u001b[1m24s\u001b[0m 6ms/step - loss: 5.0502 - top_5_accuracy: 0.2187 - val_loss: 4.9936 - val_top_5_accuracy: 0.2311\nEpoch 9/20\n\u001b[1m3935/3935\u001b[0m \u001b[32m━━━━━━━━━━━━━━━━━━━━\u001b[0m\u001b[37m\u001b[0m \u001b[1m24s\u001b[0m 6ms/step - loss: 4.9661 - top_5_accuracy: 0.2347 - val_loss: 4.9566 - val_top_5_accuracy: 0.2401\nEpoch 10/20\n\u001b[1m3935/3935\u001b[0m \u001b[32m━━━━━━━━━━━━━━━━━━━━\u001b[0m\u001b[37m\u001b[0m \u001b[1m24s\u001b[0m 6ms/step - loss: 4.9055 - top_5_accuracy: 0.2470 - val_loss: 4.9239 - val_top_5_accuracy: 0.2458\nEpoch 11/20\n\u001b[1m3935/3935\u001b[0m \u001b[32m━━━━━━━━━━━━━━━━━━━━\u001b[0m\u001b[37m\u001b[0m \u001b[1m24s\u001b[0m 6ms/step - loss: 4.8491 - top_5_accuracy: 0.2575 - val_loss: 4.9018 - val_top_5_accuracy: 0.2495\nEpoch 12/20\n\u001b[1m3935/3935\u001b[0m \u001b[32m━━━━━━━━━━━━━━━━━━━━\u001b[0m\u001b[37m\u001b[0m \u001b[1m24s\u001b[0m 6ms/step - loss: 4.7937 - top_5_accuracy: 0.2692 - val_loss: 4.8809 - val_top_5_accuracy: 0.2544\nEpoch 13/20\n\u001b[1m3935/3935\u001b[0m \u001b[32m━━━━━━━━━━━━━━━━━━━━\u001b[0m\u001b[37m\u001b[0m \u001b[1m24s\u001b[0m 6ms/step - loss: 4.7445 - top_5_accuracy: 0.2777 - val_loss: 4.8650 - val_top_5_accuracy: 0.2605\nEpoch 14/20\n\u001b[1m3935/3935\u001b[0m \u001b[32m━━━━━━━━━━━━━━━━━━━━\u001b[0m\u001b[37m\u001b[0m \u001b[1m24s\u001b[0m 6ms/step - loss: 4.6982 - top_5_accuracy: 0.2866 - val_loss: 4.8578 - val_top_5_accuracy: 0.2622\nEpoch 15/20\n\u001b[1m3935/3935\u001b[0m \u001b[32m━━━━━━━━━━━━━━━━━━━━\u001b[0m\u001b[37m\u001b[0m \u001b[1m24s\u001b[0m 6ms/step - loss: 4.6570 - top_5_accuracy: 0.2958 - val_loss: 4.8534 - val_top_5_accuracy: 0.2639\nEpoch 16/20\n\u001b[1m3935/3935\u001b[0m \u001b[32m━━━━━━━━━━━━━━━━━━━━\u001b[0m\u001b[37m\u001b[0m \u001b[1m24s\u001b[0m 6ms/step - loss: 4.6126 - top_5_accuracy: 0.3034 - val_loss: 4.8499 - val_top_5_accuracy: 0.2650\nEpoch 17/20\n\u001b[1m3935/3935\u001b[0m \u001b[32m━━━━━━━━━━━━━━━━━━━━\u001b[0m\u001b[37m\u001b[0m \u001b[1m24s\u001b[0m 6ms/step - loss: 4.5771 - top_5_accuracy: 0.3090 - val_loss: 4.8531 - val_top_5_accuracy: 0.2655\nEpoch 18/20\n\u001b[1m3935/3935\u001b[0m \u001b[32m━━━━━━━━━━━━━━━━━━━━\u001b[0m\u001b[37m\u001b[0m \u001b[1m24s\u001b[0m 6ms/step - loss: 4.5354 - top_5_accuracy: 0.3175 - val_loss: 4.8571 - val_top_5_accuracy: 0.2679\nEpoch 19/20\n\u001b[1m3935/3935\u001b[0m \u001b[32m━━━━━━━━━━━━━━━━━━━━\u001b[0m\u001b[37m\u001b[0m \u001b[1m24s\u001b[0m 6ms/step - loss: 4.5025 - top_5_accuracy: 0.3242 - val_loss: 4.8653 - val_top_5_accuracy: 0.2671\n",
          "output_type": "stream"
        },
        {
          "execution_count": 19,
          "output_type": "execute_result",
          "data": {
            "text/plain": "<keras.src.callbacks.history.History at 0x7ad7e55e5e90>"
          },
          "metadata": {}
        }
      ],
      "execution_count": null
    },
    {
      "cell_type": "code",
      "source": [
        "# Evaluate the model on the validation set\n",
        "val_loss, val_top5_acc = model.evaluate([X_val, Xmeta_val], y_val, batch_size=128)\n",
        "print(f\"\\n✅ Validation Top-5 Accuracy: {val_top5_acc:.4f}\")\n"
      ],
      "metadata": {
        "trusted": true,
        "execution": {
          "iopub.status.busy": "2025-06-25T05:32:03.292165Z",
          "iopub.execute_input": "2025-06-25T05:32:03.292813Z",
          "iopub.status.idle": "2025-06-25T05:32:04.946287Z",
          "shell.execute_reply.started": "2025-06-25T05:32:03.292789Z",
          "shell.execute_reply": "2025-06-25T05:32:04.945741Z"
        },
        "id": "fHN4q-wprp28",
        "outputId": "2f3febba-2e5d-4759-a472-0f4ad6072caf"
      },
      "outputs": [
        {
          "name": "stdout",
          "text": "\u001b[1m438/438\u001b[0m \u001b[32m━━━━━━━━━━━━━━━━━━━━\u001b[0m\u001b[37m\u001b[0m \u001b[1m2s\u001b[0m 4ms/step - loss: 4.8677 - top_5_accuracy: 0.2616\n\n✅ Validation Top-5 Accuracy: 0.2650\n",
          "output_type": "stream"
        }
      ],
      "execution_count": null
    },
    {
      "cell_type": "code",
      "source": [
        "# ========== Imports ==========\n",
        "import pandas as pd\n",
        "import numpy as np\n",
        "from sklearn.preprocessing import LabelEncoder\n",
        "from sklearn.model_selection import train_test_split\n",
        "from tensorflow.keras.preprocessing.sequence import pad_sequences\n",
        "from tensorflow.keras.models import Model\n",
        "from tensorflow.keras.layers import Input, Embedding, GRU, Dense, Concatenate, Dropout\n",
        "from tensorflow.keras.callbacks import EarlyStopping\n",
        "from tensorflow.keras.metrics import TopKCategoricalAccuracy\n",
        "\n",
        "# ========== Load Data ==========\n",
        "ratings = pd.read_csv('/kaggle/input/goodbooks-10k/ratings.csv')\n",
        "to_read = pd.read_csv('/kaggle/input/goodbooks-10k/to_read.csv')\n",
        "books = pd.read_csv('/kaggle/input/goodbooks-10k/books.csv')\n",
        "\n",
        "# ========== Filter Rare Books ==========\n",
        "popular_books = to_read['book_id'].value_counts()\n",
        "popular_books = popular_books[popular_books >= 20].index.tolist()\n",
        "ratings = ratings[ratings['book_id'].isin(popular_books)]\n",
        "\n",
        "# ========== Sort and Encode ==========\n",
        "ratings = ratings.sort_values(['user_id', 'book_id'])\n",
        "user_enc = LabelEncoder()\n",
        "book_enc = LabelEncoder()\n",
        "\n",
        "ratings['user'] = user_enc.fit_transform(ratings['user_id'])\n",
        "ratings['book'] = book_enc.fit_transform(ratings['book_id'])\n",
        "\n",
        "n_users = ratings['user'].nunique()\n",
        "n_books = ratings['book'].nunique()\n",
        "\n",
        "# ========== Build Sequences ==========\n",
        "def create_sequences(df, sequence_length=10):\n",
        "    X, y = [], []\n",
        "    for user in df['user'].unique():\n",
        "        user_data = df[df['user'] == user]['book'].tolist()\n",
        "        if len(user_data) > sequence_length:\n",
        "            for i in range(len(user_data) - sequence_length):\n",
        "                X.append(user_data[i:i+sequence_length])\n",
        "                y.append(user_data[i+sequence_length])\n",
        "    return np.array(X), np.array(y)\n",
        "\n",
        "X, y = create_sequences(ratings)\n",
        "\n",
        "# ========== Prepare Metadata ==========\n",
        "book_meta = books[['book_id', 'average_rating', 'ratings_count']]\n",
        "book_meta = book_meta[book_meta['book_id'].isin(book_enc.inverse_transform(range(n_books)))]\n",
        "book_meta['book'] = book_enc.transform(book_meta['book_id'])\n",
        "\n",
        "# Normalize metadata\n",
        "book_features = book_meta.set_index('book')[['average_rating', 'ratings_count']].fillna(0)\n",
        "book_features['ratings_count'] = np.log1p(book_features['ratings_count'])\n",
        "\n",
        "# Build feature matrix\n",
        "book_feature_matrix = np.zeros((n_books, 2))\n",
        "for book_id in book_features.index:\n",
        "    book_feature_matrix[book_id] = book_features.loc[book_id].values\n",
        "\n",
        "# Map metadata to each sequence\n",
        "X_metadata = np.array([[book_feature_matrix[bid] for bid in seq] for seq in X])\n",
        "\n",
        "# ========== Train/Validation Split ==========\n",
        "X_train, X_val, Xmeta_train, Xmeta_val, y_train, y_val = train_test_split(\n",
        "    X, X_metadata, y, test_size=0.1, random_state=42\n",
        ")\n",
        "\n",
        "# ========== Build GRU Model ==========\n",
        "embedding_dim = 64\n",
        "meta_dim = 2\n",
        "seq_len = X.shape[1]\n",
        "\n",
        "book_input = Input(shape=(seq_len,), name='book_input')\n",
        "meta_input = Input(shape=(seq_len, meta_dim), name='meta_input')\n",
        "\n",
        "book_embedding = Embedding(input_dim=n_books, output_dim=embedding_dim)(book_input)\n",
        "merged = Concatenate()([book_embedding, meta_input])\n",
        "\n",
        "x = GRU(128, return_sequences=True)(merged)\n",
        "x = GRU(64)(x)\n",
        "x = Dropout(0.3)(x)\n",
        "\n",
        "output = Dense(n_books, activation='softmax')(x)\n",
        "\n",
        "model = Model(inputs=[book_input, meta_input], outputs=output)\n",
        "from tensorflow.keras.metrics import SparseTopKCategoricalAccuracy  # ✅ Add this\n",
        "\n",
        "model.compile(\n",
        "    loss='sparse_categorical_crossentropy',\n",
        "    optimizer='adam',\n",
        "    metrics=[SparseTopKCategoricalAccuracy(k=5, name='top_5_accuracy')]  # ✅ Fix\n",
        ")\n",
        "model.summary()"
      ],
      "metadata": {
        "trusted": true,
        "execution": {
          "iopub.status.busy": "2025-06-25T05:37:29.853679Z",
          "iopub.execute_input": "2025-06-25T05:37:29.854203Z",
          "iopub.status.idle": "2025-06-25T05:38:12.780723Z",
          "shell.execute_reply.started": "2025-06-25T05:37:29.854181Z",
          "shell.execute_reply": "2025-06-25T05:38:12.780029Z"
        },
        "id": "7EBmL_EJrp29",
        "outputId": "6e1d57f4-d373-4378-cdfe-218b3fdc14ca"
      },
      "outputs": [
        {
          "output_type": "display_data",
          "data": {
            "text/plain": "\u001b[1mModel: \"functional_4\"\u001b[0m\n",
            "text/html": "<pre style=\"white-space:pre;overflow-x:auto;line-height:normal;font-family:Menlo,'DejaVu Sans Mono',consolas,'Courier New',monospace\"><span style=\"font-weight: bold\">Model: \"functional_4\"</span>\n</pre>\n"
          },
          "metadata": {}
        },
        {
          "output_type": "display_data",
          "data": {
            "text/plain": "┏━━━━━━━━━━━━━━━━━━━━━━━━━━━┳━━━━━━━━━━━━━━━━━━━━━━━━┳━━━━━━━━━━━━━━━━┳━━━━━━━━━━━━━━━━━━━━━━━━┓\n┃\u001b[1m \u001b[0m\u001b[1mLayer (type)             \u001b[0m\u001b[1m \u001b[0m┃\u001b[1m \u001b[0m\u001b[1mOutput Shape          \u001b[0m\u001b[1m \u001b[0m┃\u001b[1m \u001b[0m\u001b[1m       Param #\u001b[0m\u001b[1m \u001b[0m┃\u001b[1m \u001b[0m\u001b[1mConnected to          \u001b[0m\u001b[1m \u001b[0m┃\n┡━━━━━━━━━━━━━━━━━━━━━━━━━━━╇━━━━━━━━━━━━━━━━━━━━━━━━╇━━━━━━━━━━━━━━━━╇━━━━━━━━━━━━━━━━━━━━━━━━┩\n│ book_input (\u001b[38;5;33mInputLayer\u001b[0m)   │ (\u001b[38;5;45mNone\u001b[0m, \u001b[38;5;34m10\u001b[0m)             │              \u001b[38;5;34m0\u001b[0m │ -                      │\n├───────────────────────────┼────────────────────────┼────────────────┼────────────────────────┤\n│ embedding_6 (\u001b[38;5;33mEmbedding\u001b[0m)   │ (\u001b[38;5;45mNone\u001b[0m, \u001b[38;5;34m10\u001b[0m, \u001b[38;5;34m64\u001b[0m)         │        \u001b[38;5;34m483,264\u001b[0m │ book_input[\u001b[38;5;34m0\u001b[0m][\u001b[38;5;34m0\u001b[0m]       │\n├───────────────────────────┼────────────────────────┼────────────────┼────────────────────────┤\n│ meta_input (\u001b[38;5;33mInputLayer\u001b[0m)   │ (\u001b[38;5;45mNone\u001b[0m, \u001b[38;5;34m10\u001b[0m, \u001b[38;5;34m2\u001b[0m)          │              \u001b[38;5;34m0\u001b[0m │ -                      │\n├───────────────────────────┼────────────────────────┼────────────────┼────────────────────────┤\n│ concatenate_6             │ (\u001b[38;5;45mNone\u001b[0m, \u001b[38;5;34m10\u001b[0m, \u001b[38;5;34m66\u001b[0m)         │              \u001b[38;5;34m0\u001b[0m │ embedding_6[\u001b[38;5;34m0\u001b[0m][\u001b[38;5;34m0\u001b[0m],     │\n│ (\u001b[38;5;33mConcatenate\u001b[0m)             │                        │                │ meta_input[\u001b[38;5;34m0\u001b[0m][\u001b[38;5;34m0\u001b[0m]       │\n├───────────────────────────┼────────────────────────┼────────────────┼────────────────────────┤\n│ gru_6 (\u001b[38;5;33mGRU\u001b[0m)               │ (\u001b[38;5;45mNone\u001b[0m, \u001b[38;5;34m10\u001b[0m, \u001b[38;5;34m128\u001b[0m)        │         \u001b[38;5;34m75,264\u001b[0m │ concatenate_6[\u001b[38;5;34m0\u001b[0m][\u001b[38;5;34m0\u001b[0m]    │\n├───────────────────────────┼────────────────────────┼────────────────┼────────────────────────┤\n│ gru_7 (\u001b[38;5;33mGRU\u001b[0m)               │ (\u001b[38;5;45mNone\u001b[0m, \u001b[38;5;34m64\u001b[0m)             │         \u001b[38;5;34m37,248\u001b[0m │ gru_6[\u001b[38;5;34m0\u001b[0m][\u001b[38;5;34m0\u001b[0m]            │\n├───────────────────────────┼────────────────────────┼────────────────┼────────────────────────┤\n│ dropout_6 (\u001b[38;5;33mDropout\u001b[0m)       │ (\u001b[38;5;45mNone\u001b[0m, \u001b[38;5;34m64\u001b[0m)             │              \u001b[38;5;34m0\u001b[0m │ gru_7[\u001b[38;5;34m0\u001b[0m][\u001b[38;5;34m0\u001b[0m]            │\n├───────────────────────────┼────────────────────────┼────────────────┼────────────────────────┤\n│ dense_6 (\u001b[38;5;33mDense\u001b[0m)           │ (\u001b[38;5;45mNone\u001b[0m, \u001b[38;5;34m7551\u001b[0m)           │        \u001b[38;5;34m490,815\u001b[0m │ dropout_6[\u001b[38;5;34m0\u001b[0m][\u001b[38;5;34m0\u001b[0m]        │\n└───────────────────────────┴────────────────────────┴────────────────┴────────────────────────┘\n",
            "text/html": "<pre style=\"white-space:pre;overflow-x:auto;line-height:normal;font-family:Menlo,'DejaVu Sans Mono',consolas,'Courier New',monospace\">┏━━━━━━━━━━━━━━━━━━━━━━━━━━━┳━━━━━━━━━━━━━━━━━━━━━━━━┳━━━━━━━━━━━━━━━━┳━━━━━━━━━━━━━━━━━━━━━━━━┓\n┃<span style=\"font-weight: bold\"> Layer (type)              </span>┃<span style=\"font-weight: bold\"> Output Shape           </span>┃<span style=\"font-weight: bold\">        Param # </span>┃<span style=\"font-weight: bold\"> Connected to           </span>┃\n┡━━━━━━━━━━━━━━━━━━━━━━━━━━━╇━━━━━━━━━━━━━━━━━━━━━━━━╇━━━━━━━━━━━━━━━━╇━━━━━━━━━━━━━━━━━━━━━━━━┩\n│ book_input (<span style=\"color: #0087ff; text-decoration-color: #0087ff\">InputLayer</span>)   │ (<span style=\"color: #00d7ff; text-decoration-color: #00d7ff\">None</span>, <span style=\"color: #00af00; text-decoration-color: #00af00\">10</span>)             │              <span style=\"color: #00af00; text-decoration-color: #00af00\">0</span> │ -                      │\n├───────────────────────────┼────────────────────────┼────────────────┼────────────────────────┤\n│ embedding_6 (<span style=\"color: #0087ff; text-decoration-color: #0087ff\">Embedding</span>)   │ (<span style=\"color: #00d7ff; text-decoration-color: #00d7ff\">None</span>, <span style=\"color: #00af00; text-decoration-color: #00af00\">10</span>, <span style=\"color: #00af00; text-decoration-color: #00af00\">64</span>)         │        <span style=\"color: #00af00; text-decoration-color: #00af00\">483,264</span> │ book_input[<span style=\"color: #00af00; text-decoration-color: #00af00\">0</span>][<span style=\"color: #00af00; text-decoration-color: #00af00\">0</span>]       │\n├───────────────────────────┼────────────────────────┼────────────────┼────────────────────────┤\n│ meta_input (<span style=\"color: #0087ff; text-decoration-color: #0087ff\">InputLayer</span>)   │ (<span style=\"color: #00d7ff; text-decoration-color: #00d7ff\">None</span>, <span style=\"color: #00af00; text-decoration-color: #00af00\">10</span>, <span style=\"color: #00af00; text-decoration-color: #00af00\">2</span>)          │              <span style=\"color: #00af00; text-decoration-color: #00af00\">0</span> │ -                      │\n├───────────────────────────┼────────────────────────┼────────────────┼────────────────────────┤\n│ concatenate_6             │ (<span style=\"color: #00d7ff; text-decoration-color: #00d7ff\">None</span>, <span style=\"color: #00af00; text-decoration-color: #00af00\">10</span>, <span style=\"color: #00af00; text-decoration-color: #00af00\">66</span>)         │              <span style=\"color: #00af00; text-decoration-color: #00af00\">0</span> │ embedding_6[<span style=\"color: #00af00; text-decoration-color: #00af00\">0</span>][<span style=\"color: #00af00; text-decoration-color: #00af00\">0</span>],     │\n│ (<span style=\"color: #0087ff; text-decoration-color: #0087ff\">Concatenate</span>)             │                        │                │ meta_input[<span style=\"color: #00af00; text-decoration-color: #00af00\">0</span>][<span style=\"color: #00af00; text-decoration-color: #00af00\">0</span>]       │\n├───────────────────────────┼────────────────────────┼────────────────┼────────────────────────┤\n│ gru_6 (<span style=\"color: #0087ff; text-decoration-color: #0087ff\">GRU</span>)               │ (<span style=\"color: #00d7ff; text-decoration-color: #00d7ff\">None</span>, <span style=\"color: #00af00; text-decoration-color: #00af00\">10</span>, <span style=\"color: #00af00; text-decoration-color: #00af00\">128</span>)        │         <span style=\"color: #00af00; text-decoration-color: #00af00\">75,264</span> │ concatenate_6[<span style=\"color: #00af00; text-decoration-color: #00af00\">0</span>][<span style=\"color: #00af00; text-decoration-color: #00af00\">0</span>]    │\n├───────────────────────────┼────────────────────────┼────────────────┼────────────────────────┤\n│ gru_7 (<span style=\"color: #0087ff; text-decoration-color: #0087ff\">GRU</span>)               │ (<span style=\"color: #00d7ff; text-decoration-color: #00d7ff\">None</span>, <span style=\"color: #00af00; text-decoration-color: #00af00\">64</span>)             │         <span style=\"color: #00af00; text-decoration-color: #00af00\">37,248</span> │ gru_6[<span style=\"color: #00af00; text-decoration-color: #00af00\">0</span>][<span style=\"color: #00af00; text-decoration-color: #00af00\">0</span>]            │\n├───────────────────────────┼────────────────────────┼────────────────┼────────────────────────┤\n│ dropout_6 (<span style=\"color: #0087ff; text-decoration-color: #0087ff\">Dropout</span>)       │ (<span style=\"color: #00d7ff; text-decoration-color: #00d7ff\">None</span>, <span style=\"color: #00af00; text-decoration-color: #00af00\">64</span>)             │              <span style=\"color: #00af00; text-decoration-color: #00af00\">0</span> │ gru_7[<span style=\"color: #00af00; text-decoration-color: #00af00\">0</span>][<span style=\"color: #00af00; text-decoration-color: #00af00\">0</span>]            │\n├───────────────────────────┼────────────────────────┼────────────────┼────────────────────────┤\n│ dense_6 (<span style=\"color: #0087ff; text-decoration-color: #0087ff\">Dense</span>)           │ (<span style=\"color: #00d7ff; text-decoration-color: #00d7ff\">None</span>, <span style=\"color: #00af00; text-decoration-color: #00af00\">7551</span>)           │        <span style=\"color: #00af00; text-decoration-color: #00af00\">490,815</span> │ dropout_6[<span style=\"color: #00af00; text-decoration-color: #00af00\">0</span>][<span style=\"color: #00af00; text-decoration-color: #00af00\">0</span>]        │\n└───────────────────────────┴────────────────────────┴────────────────┴────────────────────────┘\n</pre>\n"
          },
          "metadata": {}
        },
        {
          "output_type": "display_data",
          "data": {
            "text/plain": "\u001b[1m Total params: \u001b[0m\u001b[38;5;34m1,086,591\u001b[0m (4.15 MB)\n",
            "text/html": "<pre style=\"white-space:pre;overflow-x:auto;line-height:normal;font-family:Menlo,'DejaVu Sans Mono',consolas,'Courier New',monospace\"><span style=\"font-weight: bold\"> Total params: </span><span style=\"color: #00af00; text-decoration-color: #00af00\">1,086,591</span> (4.15 MB)\n</pre>\n"
          },
          "metadata": {}
        },
        {
          "output_type": "display_data",
          "data": {
            "text/plain": "\u001b[1m Trainable params: \u001b[0m\u001b[38;5;34m1,086,591\u001b[0m (4.15 MB)\n",
            "text/html": "<pre style=\"white-space:pre;overflow-x:auto;line-height:normal;font-family:Menlo,'DejaVu Sans Mono',consolas,'Courier New',monospace\"><span style=\"font-weight: bold\"> Trainable params: </span><span style=\"color: #00af00; text-decoration-color: #00af00\">1,086,591</span> (4.15 MB)\n</pre>\n"
          },
          "metadata": {}
        },
        {
          "output_type": "display_data",
          "data": {
            "text/plain": "\u001b[1m Non-trainable params: \u001b[0m\u001b[38;5;34m0\u001b[0m (0.00 B)\n",
            "text/html": "<pre style=\"white-space:pre;overflow-x:auto;line-height:normal;font-family:Menlo,'DejaVu Sans Mono',consolas,'Courier New',monospace\"><span style=\"font-weight: bold\"> Non-trainable params: </span><span style=\"color: #00af00; text-decoration-color: #00af00\">0</span> (0.00 B)\n</pre>\n"
          },
          "metadata": {}
        }
      ],
      "execution_count": null
    },
    {
      "cell_type": "code",
      "source": [
        "# ========== Train ==========\n",
        "early_stop = EarlyStopping(monitor='val_loss', patience=3, restore_best_weights=True)\n",
        "\n",
        "model.fit(\n",
        "    [X_train, Xmeta_train], y_train,\n",
        "    validation_data=([X_val, Xmeta_val], y_val),\n",
        "    batch_size=128,\n",
        "    epochs=20,\n",
        "    callbacks=[early_stop]\n",
        ")"
      ],
      "metadata": {
        "trusted": true,
        "execution": {
          "iopub.status.busy": "2025-06-25T05:38:24.905649Z",
          "iopub.execute_input": "2025-06-25T05:38:24.905921Z",
          "iopub.status.idle": "2025-06-25T05:44:49.895887Z",
          "shell.execute_reply.started": "2025-06-25T05:38:24.905893Z",
          "shell.execute_reply": "2025-06-25T05:44:49.895087Z"
        },
        "id": "gpWnnrudrp2-",
        "outputId": "031a82cd-065f-41f4-ae12-abdaf962cdbb"
      },
      "outputs": [
        {
          "name": "stdout",
          "text": "Epoch 1/20\n\u001b[1m3164/3164\u001b[0m \u001b[32m━━━━━━━━━━━━━━━━━━━━\u001b[0m\u001b[37m\u001b[0m \u001b[1m23s\u001b[0m 6ms/step - loss: 8.1245 - top_5_accuracy: 0.0105 - val_loss: 6.4575 - val_top_5_accuracy: 0.0509\nEpoch 2/20\n\u001b[1m3164/3164\u001b[0m \u001b[32m━━━━━━━━━━━━━━━━━━━━\u001b[0m\u001b[37m\u001b[0m \u001b[1m20s\u001b[0m 6ms/step - loss: 6.3008 - top_5_accuracy: 0.0598 - val_loss: 5.7691 - val_top_5_accuracy: 0.1033\nEpoch 3/20\n\u001b[1m3164/3164\u001b[0m \u001b[32m━━━━━━━━━━━━━━━━━━━━\u001b[0m\u001b[37m\u001b[0m \u001b[1m20s\u001b[0m 6ms/step - loss: 5.7456 - top_5_accuracy: 0.1039 - val_loss: 5.4228 - val_top_5_accuracy: 0.1511\nEpoch 4/20\n\u001b[1m3164/3164\u001b[0m \u001b[32m━━━━━━━━━━━━━━━━━━━━\u001b[0m\u001b[37m\u001b[0m \u001b[1m20s\u001b[0m 6ms/step - loss: 5.4371 - top_5_accuracy: 0.1456 - val_loss: 5.2098 - val_top_5_accuracy: 0.1827\nEpoch 5/20\n\u001b[1m3164/3164\u001b[0m \u001b[32m━━━━━━━━━━━━━━━━━━━━\u001b[0m\u001b[37m\u001b[0m \u001b[1m20s\u001b[0m 6ms/step - loss: 5.2314 - top_5_accuracy: 0.1780 - val_loss: 5.0614 - val_top_5_accuracy: 0.2108\nEpoch 6/20\n\u001b[1m3164/3164\u001b[0m \u001b[32m━━━━━━━━━━━━━━━━━━━━\u001b[0m\u001b[37m\u001b[0m \u001b[1m20s\u001b[0m 6ms/step - loss: 5.0734 - top_5_accuracy: 0.2037 - val_loss: 4.9563 - val_top_5_accuracy: 0.2293\nEpoch 7/20\n\u001b[1m3164/3164\u001b[0m \u001b[32m━━━━━━━━━━━━━━━━━━━━\u001b[0m\u001b[37m\u001b[0m \u001b[1m20s\u001b[0m 6ms/step - loss: 4.9521 - top_5_accuracy: 0.2264 - val_loss: 4.8894 - val_top_5_accuracy: 0.2391\nEpoch 8/20\n\u001b[1m3164/3164\u001b[0m \u001b[32m━━━━━━━━━━━━━━━━━━━━\u001b[0m\u001b[37m\u001b[0m \u001b[1m20s\u001b[0m 6ms/step - loss: 4.8627 - top_5_accuracy: 0.2427 - val_loss: 4.8246 - val_top_5_accuracy: 0.2539\nEpoch 9/20\n\u001b[1m3164/3164\u001b[0m \u001b[32m━━━━━━━━━━━━━━━━━━━━\u001b[0m\u001b[37m\u001b[0m \u001b[1m20s\u001b[0m 6ms/step - loss: 4.7771 - top_5_accuracy: 0.2599 - val_loss: 4.7799 - val_top_5_accuracy: 0.2645\nEpoch 10/20\n\u001b[1m3164/3164\u001b[0m \u001b[32m━━━━━━━━━━━━━━━━━━━━\u001b[0m\u001b[37m\u001b[0m \u001b[1m20s\u001b[0m 6ms/step - loss: 4.6979 - top_5_accuracy: 0.2743 - val_loss: 4.7510 - val_top_5_accuracy: 0.2692\nEpoch 11/20\n\u001b[1m3164/3164\u001b[0m \u001b[32m━━━━━━━━━━━━━━━━━━━━\u001b[0m\u001b[37m\u001b[0m \u001b[1m20s\u001b[0m 6ms/step - loss: 4.6338 - top_5_accuracy: 0.2878 - val_loss: 4.7209 - val_top_5_accuracy: 0.2770\nEpoch 12/20\n\u001b[1m3164/3164\u001b[0m \u001b[32m━━━━━━━━━━━━━━━━━━━━\u001b[0m\u001b[37m\u001b[0m \u001b[1m20s\u001b[0m 6ms/step - loss: 4.5747 - top_5_accuracy: 0.2986 - val_loss: 4.7002 - val_top_5_accuracy: 0.2802\nEpoch 13/20\n\u001b[1m3164/3164\u001b[0m \u001b[32m━━━━━━━━━━━━━━━━━━━━\u001b[0m\u001b[37m\u001b[0m \u001b[1m20s\u001b[0m 6ms/step - loss: 4.5181 - top_5_accuracy: 0.3111 - val_loss: 4.6885 - val_top_5_accuracy: 0.2824\nEpoch 14/20\n\u001b[1m3164/3164\u001b[0m \u001b[32m━━━━━━━━━━━━━━━━━━━━\u001b[0m\u001b[37m\u001b[0m \u001b[1m20s\u001b[0m 6ms/step - loss: 4.4616 - top_5_accuracy: 0.3210 - val_loss: 4.6822 - val_top_5_accuracy: 0.2858\nEpoch 15/20\n\u001b[1m3164/3164\u001b[0m \u001b[32m━━━━━━━━━━━━━━━━━━━━\u001b[0m\u001b[37m\u001b[0m \u001b[1m20s\u001b[0m 6ms/step - loss: 4.4168 - top_5_accuracy: 0.3305 - val_loss: 4.6762 - val_top_5_accuracy: 0.2898\nEpoch 16/20\n\u001b[1m3164/3164\u001b[0m \u001b[32m━━━━━━━━━━━━━━━━━━━━\u001b[0m\u001b[37m\u001b[0m \u001b[1m20s\u001b[0m 6ms/step - loss: 4.3689 - top_5_accuracy: 0.3412 - val_loss: 4.6736 - val_top_5_accuracy: 0.2908\nEpoch 17/20\n\u001b[1m3164/3164\u001b[0m \u001b[32m━━━━━━━━━━━━━━━━━━━━\u001b[0m\u001b[37m\u001b[0m \u001b[1m20s\u001b[0m 6ms/step - loss: 4.3225 - top_5_accuracy: 0.3506 - val_loss: 4.6793 - val_top_5_accuracy: 0.2900\nEpoch 18/20\n\u001b[1m3164/3164\u001b[0m \u001b[32m━━━━━━━━━━━━━━━━━━━━\u001b[0m\u001b[37m\u001b[0m \u001b[1m20s\u001b[0m 6ms/step - loss: 4.2826 - top_5_accuracy: 0.3576 - val_loss: 4.6868 - val_top_5_accuracy: 0.2874\nEpoch 19/20\n\u001b[1m3164/3164\u001b[0m \u001b[32m━━━━━━━━━━━━━━━━━━━━\u001b[0m\u001b[37m\u001b[0m \u001b[1m20s\u001b[0m 6ms/step - loss: 4.2333 - top_5_accuracy: 0.3673 - val_loss: 4.6958 - val_top_5_accuracy: 0.2906\n",
          "output_type": "stream"
        },
        {
          "execution_count": 22,
          "output_type": "execute_result",
          "data": {
            "text/plain": "<keras.src.callbacks.history.History at 0x7ad76a5c11d0>"
          },
          "metadata": {}
        }
      ],
      "execution_count": null
    },
    {
      "cell_type": "code",
      "source": [
        "# Evaluate on validation data\n",
        "val_loss, val_top5 = model.evaluate([X_val, Xmeta_val], y_val, batch_size=128)\n",
        "\n",
        "# Print formatted result\n",
        "print(f\"\\n✅ Validation Top-5 Accuracy: {val_top5:.4f}\")\n"
      ],
      "metadata": {
        "trusted": true,
        "execution": {
          "iopub.status.busy": "2025-06-25T05:45:13.151487Z",
          "iopub.execute_input": "2025-06-25T05:45:13.152171Z",
          "iopub.status.idle": "2025-06-25T05:45:14.624571Z",
          "shell.execute_reply.started": "2025-06-25T05:45:13.152147Z",
          "shell.execute_reply": "2025-06-25T05:45:14.623870Z"
        },
        "id": "cFHaRzAPrp2-",
        "outputId": "609cd803-87b8-41ad-98b1-51df105cd03c"
      },
      "outputs": [
        {
          "name": "stdout",
          "text": "\u001b[1m352/352\u001b[0m \u001b[32m━━━━━━━━━━━━━━━━━━━━\u001b[0m\u001b[37m\u001b[0m \u001b[1m1s\u001b[0m 4ms/step - loss: 4.6748 - top_5_accuracy: 0.2923\n\n✅ Validation Top-5 Accuracy: 0.2908\n",
          "output_type": "stream"
        }
      ],
      "execution_count": null
    }
  ]
}